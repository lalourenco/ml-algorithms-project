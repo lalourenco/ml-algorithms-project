{
 "cells": [
  {
   "cell_type": "markdown",
   "metadata": {
    "heading_collapsed": true
   },
   "source": [
    "# 0.0 Imports"
   ]
  },
  {
   "cell_type": "code",
   "execution_count": 114,
   "metadata": {
    "hidden": true
   },
   "outputs": [],
   "source": [
    "import pandas as pd\n",
    "import numpy as np\n",
    "import os\n",
    "from matplotlib import pyplot as plt\n",
    "import random\n",
    "\n",
    "from sklearn import metrics as mt\n",
    "\n",
    "from sklearn.neighbors import KNeighborsClassifier\n",
    "from sklearn import tree as tr\n",
    "from sklearn import ensemble as en\n",
    "from sklearn import linear_model as lm\n",
    "from sklearn import preprocessing as pp\n",
    "from sklearn import cluster as ct\n",
    "from yellowbrick.cluster import KElbowVisualizer"
   ]
  },
  {
   "cell_type": "markdown",
   "metadata": {
    "heading_collapsed": true,
    "hidden": true
   },
   "source": [
    "## 0.1 Functions"
   ]
  },
  {
   "cell_type": "code",
   "execution_count": 2,
   "metadata": {
    "hidden": true
   },
   "outputs": [],
   "source": [
    "def __roc_curve__(y_real,y_hat):\n",
    "    fpr,tpr,thresholds=mt.roc_curve(y_real,y_hat)\n",
    "    return mt.auc(fpr,tpr)\n",
    "\n",
    "def __clas_metrics__(y_real,y_hat,model):\n",
    "    model_name=model\n",
    "    acc=mt.accuracy_score(y_real,y_hat)\n",
    "    precision=mt.precision_score(y_real,y_hat,pos_label = 1)\n",
    "    recall=mt.recall_score(y_real,y_hat,pos_label = 1)\n",
    "    f1_score=mt.f1_score(y_real,y_hat,pos_label = 1)\n",
    "    metrics=pd.DataFrame([model_name,acc,precision,recall,f1_score]).T\n",
    "    metrics.columns=['Algorithm','Accuracy','Precision','Recall','F1 Score']\n",
    "    return metrics\n",
    "\n",
    "def __reg_metrics__(y_real,y_hat,model):\n",
    "    model_name=model\n",
    "    r2_score=mt.r2_score(y_real,y_hat)\n",
    "    mse=mt.mean_squared_error(y_real,y_hat)\n",
    "    rmse=np.sqrt(mse)\n",
    "    mae=mt.mean_absolute_error(y_real,y_hat)\n",
    "    mape=mt.mean_absolute_percentage_error(y_real,y_hat)\n",
    "    metrics=pd.DataFrame([model,r2_score,mse,rmse,mae,mape]).T\n",
    "    metrics.columns=('Algorithm','R2_Score','MSE','RMSE','MAE','MAPE')\n",
    "    return metrics \n",
    "    \n",
    "def __random_search__(parameters):\n",
    "    return {k:random.sample(v,1)[0] for k, v in parameters.items()}"
   ]
  },
  {
   "cell_type": "markdown",
   "metadata": {
    "heading_collapsed": true
   },
   "source": [
    "# 1.0 Classification Algorithms"
   ]
  },
  {
   "cell_type": "code",
   "execution_count": 21,
   "metadata": {
    "code_folding": [
     0
    ],
    "hidden": true
   },
   "outputs": [],
   "source": [
    "# Load dataset\n",
    "os.chdir('../datasets/classification')\n",
    "X_train=pd.read_csv('X_training.csv',low_memory=False)\n",
    "X_val=pd.read_csv('X_validation.csv',low_memory=False)\n",
    "X_test=pd.read_csv('X_test.csv',low_memory=False)\n",
    "y_train=pd.read_csv('y_training.csv',low_memory=False)\n",
    "y_val=pd.read_csv('y_validation.csv',low_memory=False)\n",
    "y_test=pd.read_csv('y_test.csv',low_memory=False)"
   ]
  },
  {
   "cell_type": "markdown",
   "metadata": {
    "heading_collapsed": true,
    "hidden": true
   },
   "source": [
    "## 1.1 KNN (K-Nearest Neighbor)"
   ]
  },
  {
   "cell_type": "code",
   "execution_count": 65,
   "metadata": {
    "hidden": true
   },
   "outputs": [
    {
     "name": "stderr",
     "output_type": "stream",
     "text": [
      "C:\\Users\\User\\anaconda3\\lib\\site-packages\\sklearn\\neighbors\\_classification.py:198: DataConversionWarning: A column-vector y was passed when a 1d array was expected. Please change the shape of y to (n_samples,), for example using ravel().\n",
      "  return self._fit(X, y)\n"
     ]
    }
   ],
   "source": [
    "# Model Define - Default hyperparameters\n",
    "knn=KNeighborsClassifier()\n",
    "knn.fit(X_train,y_train)\n",
    "# Predict over training dataset\n",
    "y_pred_train=knn.predict(X_train)\n",
    "knn_train=__clas_metrics__(y_train,y_pred_train,'KNN')\n",
    "# Predict over validation dataset\n",
    "y_pred_val=knn.predict(X_val)\n",
    "knn_val=__clas_metrics__(y_val,y_pred_val,'KNN')"
   ]
  },
  {
   "cell_type": "code",
   "execution_count": 69,
   "metadata": {
    "hidden": true
   },
   "outputs": [
    {
     "name": "stderr",
     "output_type": "stream",
     "text": [
      "C:\\Users\\User\\anaconda3\\lib\\site-packages\\sklearn\\neighbors\\_classification.py:198: DataConversionWarning: A column-vector y was passed when a 1d array was expected. Please change the shape of y to (n_samples,), for example using ravel().\n",
      "  return self._fit(X, y)\n",
      "C:\\Users\\User\\anaconda3\\lib\\site-packages\\sklearn\\neighbors\\_classification.py:198: DataConversionWarning: A column-vector y was passed when a 1d array was expected. Please change the shape of y to (n_samples,), for example using ravel().\n",
      "  return self._fit(X, y)\n",
      "C:\\Users\\User\\anaconda3\\lib\\site-packages\\sklearn\\neighbors\\_classification.py:198: DataConversionWarning: A column-vector y was passed when a 1d array was expected. Please change the shape of y to (n_samples,), for example using ravel().\n",
      "  return self._fit(X, y)\n",
      "C:\\Users\\User\\anaconda3\\lib\\site-packages\\sklearn\\neighbors\\_classification.py:198: DataConversionWarning: A column-vector y was passed when a 1d array was expected. Please change the shape of y to (n_samples,), for example using ravel().\n",
      "  return self._fit(X, y)\n",
      "C:\\Users\\User\\anaconda3\\lib\\site-packages\\sklearn\\neighbors\\_classification.py:198: DataConversionWarning: A column-vector y was passed when a 1d array was expected. Please change the shape of y to (n_samples,), for example using ravel().\n",
      "  return self._fit(X, y)\n",
      "C:\\Users\\User\\anaconda3\\lib\\site-packages\\sklearn\\neighbors\\_classification.py:198: DataConversionWarning: A column-vector y was passed when a 1d array was expected. Please change the shape of y to (n_samples,), for example using ravel().\n",
      "  return self._fit(X, y)\n",
      "C:\\Users\\User\\anaconda3\\lib\\site-packages\\sklearn\\neighbors\\_classification.py:198: DataConversionWarning: A column-vector y was passed when a 1d array was expected. Please change the shape of y to (n_samples,), for example using ravel().\n",
      "  return self._fit(X, y)\n",
      "C:\\Users\\User\\anaconda3\\lib\\site-packages\\sklearn\\neighbors\\_classification.py:198: DataConversionWarning: A column-vector y was passed when a 1d array was expected. Please change the shape of y to (n_samples,), for example using ravel().\n",
      "  return self._fit(X, y)\n",
      "C:\\Users\\User\\anaconda3\\lib\\site-packages\\sklearn\\neighbors\\_classification.py:198: DataConversionWarning: A column-vector y was passed when a 1d array was expected. Please change the shape of y to (n_samples,), for example using ravel().\n",
      "  return self._fit(X, y)\n"
     ]
    },
    {
     "data": {
      "text/plain": [
       "Text(0, 0.5, 'AUC')"
      ]
     },
     "execution_count": 69,
     "metadata": {},
     "output_type": "execute_result"
    },
    {
     "data": {
      "image/png": "[encoded data removed]",
      "text/plain": [
       "<Figure size 720x360 with 1 Axes>"
      ]
     },
     "metadata": {
      "needs_background": "light"
     },
     "output_type": "display_data"
    }
   ],
   "source": [
    "# Hyperparameter fine tuning - n_neighbors\n",
    "n_neighbors_list=[]\n",
    "auc_list=[]\n",
    "for i in range(3,20,2):\n",
    "    knn=KNeighborsClassifier(n_neighbors = i)\n",
    "    knn.fit(X_train,y_train);\n",
    "    y_hat=knn.predict(X_val)\n",
    "    auc_list.append(__roc_curve__(y_val,y_hat))\n",
    "    n_neighbors_list.append(i)\n",
    "plt.figure(figsize=(10,5))\n",
    "plt.plot(n_neighbors_list,auc_list)\n",
    "plt.xlabel('n_neighbors'),\n",
    "plt.ylabel('AUC')"
   ]
  },
  {
   "cell_type": "code",
   "execution_count": 70,
   "metadata": {
    "hidden": true
   },
   "outputs": [
    {
     "name": "stderr",
     "output_type": "stream",
     "text": [
      "C:\\Users\\User\\anaconda3\\lib\\site-packages\\sklearn\\neighbors\\_classification.py:198: DataConversionWarning: A column-vector y was passed when a 1d array was expected. Please change the shape of y to (n_samples,), for example using ravel().\n",
      "  return self._fit(X, y)\n",
      "C:\\Users\\User\\anaconda3\\lib\\site-packages\\sklearn\\base.py:444: UserWarning: X has feature names, but KNeighborsClassifier was fitted without feature names\n",
      "  f\"X has feature names, but {self.__class__.__name__} was fitted without\"\n"
     ]
    }
   ],
   "source": [
    "# Final model - n_neighbors=3\n",
    "knn_final=KNeighborsClassifier(n_neighbors=3)\n",
    "knn_final.fit(np.concatenate((X_train,X_val)),np.concatenate((y_train,y_val)))\n",
    "y_hat=knn_final.predict(X_test)\n",
    "knn_test=__clas_metrics__(y_test,y_hat,'KNN')"
   ]
  },
  {
   "cell_type": "markdown",
   "metadata": {
    "heading_collapsed": true,
    "hidden": true
   },
   "source": [
    "## 1.2 Decision Tree Classifier"
   ]
  },
  {
   "cell_type": "code",
   "execution_count": 55,
   "metadata": {
    "hidden": true
   },
   "outputs": [],
   "source": [
    "# Model define - default hyperparameters\n",
    "dt_clas=tr.DecisionTreeClassifier()\n",
    "dt_clas.fit(X_train,y_train)\n",
    "# Performance over training dataset\n",
    "y_pred_train=dt_clas.predict(X_train)\n",
    "dt_train=__clas_metrics__(y_train,y_pred_train,'Decision Tree')\n",
    "# Performance over validation dataset\n",
    "y_pred_val=dt_clas.predict(X_val)\n",
    "dt_val=__clas_metrics__(y_val,y_pred_val,'Decision Tree')\n",
    "\n",
    "# Hyperparameter fine tuning - max_depth\n",
    "auc_list=[]\n",
    "max_depth_list=[]\n",
    "for i in range(1,40,1):\n",
    "    dt_clas=tr.DecisionTreeClassifier(max_depth=i)\n",
    "    dt_clas.fit(X_train,y_train)\n",
    "    y_hat=dt_clas.predict(X_val)\n",
    "    auc_list.append(__roc_curve__(y_val,y_hat))\n",
    "    max_depth_list.append(i)\n",
    "plt.figure(figsize=(10,5))\n",
    "plt.plot(max_depth_list,auc_list)\n",
    "plt.xlabel('max_depth'),\n",
    "plt.ylabel('AUC')"
   ]
  },
  {
   "cell_type": "code",
   "execution_count": 62,
   "metadata": {
    "hidden": true
   },
   "outputs": [
    {
     "name": "stderr",
     "output_type": "stream",
     "text": [
      "C:\\Users\\User\\anaconda3\\lib\\site-packages\\sklearn\\base.py:444: UserWarning: X has feature names, but DecisionTreeClassifier was fitted without feature names\n",
      "  f\"X has feature names, but {self.__class__.__name__} was fitted without\"\n"
     ]
    }
   ],
   "source": [
    "# Final model - max_depth=15\n",
    "dt_final=tr.DecisionTreeClassifier(max_depth=15)\n",
    "dt_final.fit(np.concatenate((X_train,X_val)),np.concatenate((y_train,y_val)))\n",
    "y_hat=dt_final.predict(X_test)\n",
    "dt_test=__clas_metrics__(y_test,y_hat,'Decision Tree')"
   ]
  },
  {
   "cell_type": "markdown",
   "metadata": {
    "heading_collapsed": true,
    "hidden": true
   },
   "source": [
    "## 1.3 Random Forest Classifier"
   ]
  },
  {
   "cell_type": "code",
   "execution_count": 74,
   "metadata": {
    "hidden": true
   },
   "outputs": [
    {
     "name": "stderr",
     "output_type": "stream",
     "text": [
      "C:\\Users\\User\\anaconda3\\lib\\site-packages\\ipykernel_launcher.py:3: DataConversionWarning: A column-vector y was passed when a 1d array was expected. Please change the shape of y to (n_samples,), for example using ravel().\n",
      "  This is separate from the ipykernel package so we can avoid doing imports until\n"
     ]
    }
   ],
   "source": [
    "# Model define - default hyperparameters\n",
    "rf_clas = en.RandomForestClassifier()\n",
    "rf_clas.fit(X_train,y_train)\n",
    "# Performance over training dataset\n",
    "y_pred_train=rf_clas.predict(X_train)\n",
    "rf_train=__clas_metrics__(y_train,y_pred_train,'Random Forest')\n",
    "# Performance over validation dataset\n",
    "y_pred_val=rf_clas.predict(X_val)\n",
    "rf_val=__clas_metrics__(y_val,y_pred_val,'Random Forest')"
   ]
  },
  {
   "cell_type": "code",
   "execution_count": 82,
   "metadata": {
    "hidden": true
   },
   "outputs": [
    {
     "name": "stderr",
     "output_type": "stream",
     "text": [
      "C:\\Users\\User\\anaconda3\\lib\\site-packages\\ipykernel_launcher.py:10: DataConversionWarning: A column-vector y was passed when a 1d array was expected. Please change the shape of y to (n_samples,), for example using ravel().\n",
      "  # Remove the CWD from sys.path while we load stuff.\n",
      "C:\\Users\\User\\anaconda3\\lib\\site-packages\\ipykernel_launcher.py:10: DataConversionWarning: A column-vector y was passed when a 1d array was expected. Please change the shape of y to (n_samples,), for example using ravel().\n",
      "  # Remove the CWD from sys.path while we load stuff.\n",
      "C:\\Users\\User\\anaconda3\\lib\\site-packages\\ipykernel_launcher.py:10: DataConversionWarning: A column-vector y was passed when a 1d array was expected. Please change the shape of y to (n_samples,), for example using ravel().\n",
      "  # Remove the CWD from sys.path while we load stuff.\n",
      "C:\\Users\\User\\anaconda3\\lib\\site-packages\\ipykernel_launcher.py:10: DataConversionWarning: A column-vector y was passed when a 1d array was expected. Please change the shape of y to (n_samples,), for example using ravel().\n",
      "  # Remove the CWD from sys.path while we load stuff.\n",
      "C:\\Users\\User\\anaconda3\\lib\\site-packages\\ipykernel_launcher.py:10: DataConversionWarning: A column-vector y was passed when a 1d array was expected. Please change the shape of y to (n_samples,), for example using ravel().\n",
      "  # Remove the CWD from sys.path while we load stuff.\n",
      "C:\\Users\\User\\anaconda3\\lib\\site-packages\\ipykernel_launcher.py:10: DataConversionWarning: A column-vector y was passed when a 1d array was expected. Please change the shape of y to (n_samples,), for example using ravel().\n",
      "  # Remove the CWD from sys.path while we load stuff.\n",
      "C:\\Users\\User\\anaconda3\\lib\\site-packages\\ipykernel_launcher.py:10: DataConversionWarning: A column-vector y was passed when a 1d array was expected. Please change the shape of y to (n_samples,), for example using ravel().\n",
      "  # Remove the CWD from sys.path while we load stuff.\n",
      "C:\\Users\\User\\anaconda3\\lib\\site-packages\\ipykernel_launcher.py:10: DataConversionWarning: A column-vector y was passed when a 1d array was expected. Please change the shape of y to (n_samples,), for example using ravel().\n",
      "  # Remove the CWD from sys.path while we load stuff.\n",
      "C:\\Users\\User\\anaconda3\\lib\\site-packages\\ipykernel_launcher.py:10: DataConversionWarning: A column-vector y was passed when a 1d array was expected. Please change the shape of y to (n_samples,), for example using ravel().\n",
      "  # Remove the CWD from sys.path while we load stuff.\n",
      "C:\\Users\\User\\anaconda3\\lib\\site-packages\\ipykernel_launcher.py:10: DataConversionWarning: A column-vector y was passed when a 1d array was expected. Please change the shape of y to (n_samples,), for example using ravel().\n",
      "  # Remove the CWD from sys.path while we load stuff.\n"
     ]
    }
   ],
   "source": [
    "# Hyperparameters fine tunning - n_estimators,max_depth\n",
    "parameters={'n_estimators':[10,50,100,200],\n",
    "            'max_depth':[5,10,20,30,40]}\n",
    "auc_list=[]\n",
    "parameters_list=[]\n",
    "for i in range(10):\n",
    "    hp=__random_search__(parameters)\n",
    "    rf_clas=en.RandomForestClassifier(n_estimators = hp['n_estimators'],\n",
    "                                      max_depth = hp['max_depth'])\n",
    "    rf_clas.fit(X_train,y_train)\n",
    "    y_hat=rf_clas.predict(X_val)\n",
    "    auc_list.append(__roc_curve__(y_val,y_hat))\n",
    "    parameters_list.append(hp)\n",
    "fine_tuning_results=pd.DataFrame([parameters_list,auc_list]).T\n",
    "fine_tuning_results.columns=['Hyperparameters','AUC']"
   ]
  },
  {
   "cell_type": "code",
   "execution_count": 96,
   "metadata": {
    "hidden": true
   },
   "outputs": [
    {
     "data": {
      "text/html": [
       "<div>\n",
       "<style scoped>\n",
       "    .dataframe tbody tr th:only-of-type {\n",
       "        vertical-align: middle;\n",
       "    }\n",
       "\n",
       "    .dataframe tbody tr th {\n",
       "        vertical-align: top;\n",
       "    }\n",
       "\n",
       "    .dataframe thead th {\n",
       "        text-align: right;\n",
       "    }\n",
       "</style>\n",
       "<table border=\"1\" class=\"dataframe\">\n",
       "  <thead>\n",
       "    <tr style=\"text-align: right;\">\n",
       "      <th></th>\n",
       "      <th>Hyperparameters</th>\n",
       "      <th>AUC</th>\n",
       "    </tr>\n",
       "  </thead>\n",
       "  <tbody>\n",
       "    <tr>\n",
       "      <th>0</th>\n",
       "      <td>{'n_estimators': 100, 'max_depth': 10}</td>\n",
       "      <td>0.948034</td>\n",
       "    </tr>\n",
       "    <tr>\n",
       "      <th>1</th>\n",
       "      <td>{'n_estimators': 10, 'max_depth': 5}</td>\n",
       "      <td>0.912009</td>\n",
       "    </tr>\n",
       "    <tr>\n",
       "      <th>2</th>\n",
       "      <td>{'n_estimators': 10, 'max_depth': 5}</td>\n",
       "      <td>0.917568</td>\n",
       "    </tr>\n",
       "    <tr>\n",
       "      <th>3</th>\n",
       "      <td>{'n_estimators': 50, 'max_depth': 10}</td>\n",
       "      <td>0.949952</td>\n",
       "    </tr>\n",
       "    <tr>\n",
       "      <th>4</th>\n",
       "      <td>{'n_estimators': 200, 'max_depth': 20}</td>\n",
       "      <td>0.961745</td>\n",
       "    </tr>\n",
       "    <tr>\n",
       "      <th>5</th>\n",
       "      <td>{'n_estimators': 50, 'max_depth': 10}</td>\n",
       "      <td>0.947958</td>\n",
       "    </tr>\n",
       "    <tr>\n",
       "      <th>6</th>\n",
       "      <td>{'n_estimators': 50, 'max_depth': 10}</td>\n",
       "      <td>0.948224</td>\n",
       "    </tr>\n",
       "    <tr>\n",
       "      <th>7</th>\n",
       "      <td>{'n_estimators': 50, 'max_depth': 10}</td>\n",
       "      <td>0.948464</td>\n",
       "    </tr>\n",
       "    <tr>\n",
       "      <th>8</th>\n",
       "      <td>{'n_estimators': 200, 'max_depth': 10}</td>\n",
       "      <td>0.947705</td>\n",
       "    </tr>\n",
       "    <tr>\n",
       "      <th>9</th>\n",
       "      <td>{'n_estimators': 10, 'max_depth': 30}</td>\n",
       "      <td>0.957257</td>\n",
       "    </tr>\n",
       "  </tbody>\n",
       "</table>\n",
       "</div>"
      ],
      "text/plain": [
       "                          Hyperparameters       AUC\n",
       "0  {'n_estimators': 100, 'max_depth': 10}  0.948034\n",
       "1    {'n_estimators': 10, 'max_depth': 5}  0.912009\n",
       "2    {'n_estimators': 10, 'max_depth': 5}  0.917568\n",
       "3   {'n_estimators': 50, 'max_depth': 10}  0.949952\n",
       "4  {'n_estimators': 200, 'max_depth': 20}  0.961745\n",
       "5   {'n_estimators': 50, 'max_depth': 10}  0.947958\n",
       "6   {'n_estimators': 50, 'max_depth': 10}  0.948224\n",
       "7   {'n_estimators': 50, 'max_depth': 10}  0.948464\n",
       "8  {'n_estimators': 200, 'max_depth': 10}  0.947705\n",
       "9   {'n_estimators': 10, 'max_depth': 30}  0.957257"
      ]
     },
     "execution_count": 96,
     "metadata": {},
     "output_type": "execute_result"
    }
   ],
   "source": [
    "fine_tuning_results"
   ]
  },
  {
   "cell_type": "code",
   "execution_count": 103,
   "metadata": {
    "hidden": true
   },
   "outputs": [
    {
     "name": "stderr",
     "output_type": "stream",
     "text": [
      "C:\\Users\\User\\anaconda3\\lib\\site-packages\\ipykernel_launcher.py:4: DataConversionWarning: A column-vector y was passed when a 1d array was expected. Please change the shape of y to (n_samples,), for example using ravel().\n",
      "  after removing the cwd from sys.path.\n",
      "C:\\Users\\User\\anaconda3\\lib\\site-packages\\sklearn\\base.py:444: UserWarning: X has feature names, but RandomForestClassifier was fitted without feature names\n",
      "  f\"X has feature names, but {self.__class__.__name__} was fitted without\"\n"
     ]
    }
   ],
   "source": [
    "# Final model - 'n_estimators': 200, 'max_depth': 20\n",
    "rf_final = en.RandomForestClassifier(n_estimators=200,\n",
    "                                     max_depth=20)\n",
    "rf_final.fit(np.concatenate((X_train,X_val)),np.concatenate((y_train,y_val)))\n",
    "y_hat=rf_final.predict(X_test)\n",
    "rf_test=__clas_metrics__(y_test,y_hat,'Random Forest')"
   ]
  },
  {
   "cell_type": "markdown",
   "metadata": {
    "heading_collapsed": true,
    "hidden": true
   },
   "source": [
    "## 1.4 Logistic Regression"
   ]
  },
  {
   "cell_type": "code",
   "execution_count": 106,
   "metadata": {
    "hidden": true
   },
   "outputs": [
    {
     "name": "stderr",
     "output_type": "stream",
     "text": [
      "C:\\Users\\User\\anaconda3\\lib\\site-packages\\sklearn\\utils\\validation.py:993: DataConversionWarning: A column-vector y was passed when a 1d array was expected. Please change the shape of y to (n_samples, ), for example using ravel().\n",
      "  y = column_or_1d(y, warn=True)\n",
      "C:\\Users\\User\\anaconda3\\lib\\site-packages\\sklearn\\metrics\\_classification.py:1318: UndefinedMetricWarning: Precision is ill-defined and being set to 0.0 due to no predicted samples. Use `zero_division` parameter to control this behavior.\n",
      "  _warn_prf(average, modifier, msg_start, len(result))\n",
      "C:\\Users\\User\\anaconda3\\lib\\site-packages\\sklearn\\metrics\\_classification.py:1318: UndefinedMetricWarning: Precision is ill-defined and being set to 0.0 due to no predicted samples. Use `zero_division` parameter to control this behavior.\n",
      "  _warn_prf(average, modifier, msg_start, len(result))\n"
     ]
    }
   ],
   "source": [
    "# Model define - default hyperparameters\n",
    "log = lm.LogisticRegression()\n",
    "log.fit(X_train,y_train)\n",
    "# Predict over training dataset\n",
    "y_pred_train=log.predict(X_train)\n",
    "log_train=__clas_metrics__(y_train,y_pred_train,'Logistic Regression')\n",
    "# Predict over validation dataset\n",
    "y_pred_val=log.predict(X_val)\n",
    "log_val=__clas_metrics__(y_val,y_pred_val,'Logistic Regression')"
   ]
  },
  {
   "cell_type": "code",
   "execution_count": 130,
   "metadata": {
    "hidden": true
   },
   "outputs": [
    {
     "name": "stderr",
     "output_type": "stream",
     "text": [
      "C:\\Users\\User\\anaconda3\\lib\\site-packages\\sklearn\\utils\\validation.py:993: DataConversionWarning: A column-vector y was passed when a 1d array was expected. Please change the shape of y to (n_samples, ), for example using ravel().\n",
      "  y = column_or_1d(y, warn=True)\n",
      "C:\\Users\\User\\anaconda3\\lib\\site-packages\\sklearn\\utils\\validation.py:993: DataConversionWarning: A column-vector y was passed when a 1d array was expected. Please change the shape of y to (n_samples, ), for example using ravel().\n",
      "  y = column_or_1d(y, warn=True)\n",
      "C:\\Users\\User\\anaconda3\\lib\\site-packages\\sklearn\\linear_model\\_sag.py:354: ConvergenceWarning: The max_iter was reached which means the coef_ did not converge\n",
      "  ConvergenceWarning,\n",
      "C:\\Users\\User\\anaconda3\\lib\\site-packages\\sklearn\\utils\\validation.py:993: DataConversionWarning: A column-vector y was passed when a 1d array was expected. Please change the shape of y to (n_samples, ), for example using ravel().\n",
      "  y = column_or_1d(y, warn=True)\n",
      "C:\\Users\\User\\anaconda3\\lib\\site-packages\\sklearn\\utils\\validation.py:993: DataConversionWarning: A column-vector y was passed when a 1d array was expected. Please change the shape of y to (n_samples, ), for example using ravel().\n",
      "  y = column_or_1d(y, warn=True)\n",
      "C:\\Users\\User\\anaconda3\\lib\\site-packages\\sklearn\\linear_model\\_sag.py:354: ConvergenceWarning: The max_iter was reached which means the coef_ did not converge\n",
      "  ConvergenceWarning,\n",
      "C:\\Users\\User\\anaconda3\\lib\\site-packages\\sklearn\\utils\\validation.py:993: DataConversionWarning: A column-vector y was passed when a 1d array was expected. Please change the shape of y to (n_samples, ), for example using ravel().\n",
      "  y = column_or_1d(y, warn=True)\n",
      "C:\\Users\\User\\anaconda3\\lib\\site-packages\\sklearn\\utils\\validation.py:993: DataConversionWarning: A column-vector y was passed when a 1d array was expected. Please change the shape of y to (n_samples, ), for example using ravel().\n",
      "  y = column_or_1d(y, warn=True)\n",
      "C:\\Users\\User\\anaconda3\\lib\\site-packages\\sklearn\\linear_model\\_sag.py:354: ConvergenceWarning: The max_iter was reached which means the coef_ did not converge\n",
      "  ConvergenceWarning,\n",
      "C:\\Users\\User\\anaconda3\\lib\\site-packages\\sklearn\\utils\\validation.py:993: DataConversionWarning: A column-vector y was passed when a 1d array was expected. Please change the shape of y to (n_samples, ), for example using ravel().\n",
      "  y = column_or_1d(y, warn=True)\n",
      "C:\\Users\\User\\anaconda3\\lib\\site-packages\\sklearn\\utils\\validation.py:993: DataConversionWarning: A column-vector y was passed when a 1d array was expected. Please change the shape of y to (n_samples, ), for example using ravel().\n",
      "  y = column_or_1d(y, warn=True)\n",
      "C:\\Users\\User\\anaconda3\\lib\\site-packages\\sklearn\\linear_model\\_sag.py:354: ConvergenceWarning: The max_iter was reached which means the coef_ did not converge\n",
      "  ConvergenceWarning,\n",
      "C:\\Users\\User\\anaconda3\\lib\\site-packages\\sklearn\\utils\\validation.py:993: DataConversionWarning: A column-vector y was passed when a 1d array was expected. Please change the shape of y to (n_samples, ), for example using ravel().\n",
      "  y = column_or_1d(y, warn=True)\n",
      "C:\\Users\\User\\anaconda3\\lib\\site-packages\\sklearn\\linear_model\\_sag.py:354: ConvergenceWarning: The max_iter was reached which means the coef_ did not converge\n",
      "  ConvergenceWarning,\n",
      "C:\\Users\\User\\anaconda3\\lib\\site-packages\\sklearn\\utils\\validation.py:993: DataConversionWarning: A column-vector y was passed when a 1d array was expected. Please change the shape of y to (n_samples, ), for example using ravel().\n",
      "  y = column_or_1d(y, warn=True)\n"
     ]
    }
   ],
   "source": [
    "# Hyperparameters fine tuning - C,solver,max_iter\n",
    "parameters = {'C':[0.1,0.3,0.5,0.7,1.0],\n",
    "              'solver':['lbfgs','liblinear','sag','saga'],\n",
    "              'max_iter':[100,500,1000,2000]}\n",
    "auc_list = []\n",
    "parameters_list=[]\n",
    "for i in range(10):\n",
    "    hp=__random_search__(parameters)\n",
    "    log=lm.LogisticRegression(C = hp['C'],\n",
    "                              solver = hp['solver'],\n",
    "                              max_iter = hp['max_iter']);\n",
    "    log.fit(X_train,y_train);\n",
    "    y_hat = log.predict(X_val);\n",
    "    auc_list.append(__roc_curve__(y_val,y_hat))\n",
    "    parameters_list.append(hp)\n",
    "log_fine_tuning=pd.DataFrame([parameters_list,auc_list]).T\n",
    "log_fine_tuning.columns=['Hyperparameters','AUC']"
   ]
  },
  {
   "cell_type": "code",
   "execution_count": 145,
   "metadata": {
    "hidden": true
   },
   "outputs": [
    {
     "data": {
      "text/html": [
       "<div>\n",
       "<style scoped>\n",
       "    .dataframe tbody tr th:only-of-type {\n",
       "        vertical-align: middle;\n",
       "    }\n",
       "\n",
       "    .dataframe tbody tr th {\n",
       "        vertical-align: top;\n",
       "    }\n",
       "\n",
       "    .dataframe thead th {\n",
       "        text-align: right;\n",
       "    }\n",
       "</style>\n",
       "<table border=\"1\" class=\"dataframe\">\n",
       "  <thead>\n",
       "    <tr style=\"text-align: right;\">\n",
       "      <th></th>\n",
       "      <th>Hyperparameters</th>\n",
       "      <th>AUC</th>\n",
       "    </tr>\n",
       "  </thead>\n",
       "  <tbody>\n",
       "    <tr>\n",
       "      <th>0</th>\n",
       "      <td>{'C': 0.5, 'solver': 'liblinear', 'max_iter': ...</td>\n",
       "      <td>0.836172</td>\n",
       "    </tr>\n",
       "    <tr>\n",
       "      <th>1</th>\n",
       "      <td>{'C': 0.7, 'solver': 'sag', 'max_iter': 500}</td>\n",
       "      <td>0.502655</td>\n",
       "    </tr>\n",
       "    <tr>\n",
       "      <th>2</th>\n",
       "      <td>{'C': 0.7, 'solver': 'liblinear', 'max_iter': ...</td>\n",
       "      <td>0.836183</td>\n",
       "    </tr>\n",
       "    <tr>\n",
       "      <th>3</th>\n",
       "      <td>{'C': 1.0, 'solver': 'sag', 'max_iter': 500}</td>\n",
       "      <td>0.502655</td>\n",
       "    </tr>\n",
       "    <tr>\n",
       "      <th>4</th>\n",
       "      <td>{'C': 0.1, 'solver': 'liblinear', 'max_iter': ...</td>\n",
       "      <td>0.798887</td>\n",
       "    </tr>\n",
       "    <tr>\n",
       "      <th>5</th>\n",
       "      <td>{'C': 0.7, 'solver': 'sag', 'max_iter': 500}</td>\n",
       "      <td>0.502655</td>\n",
       "    </tr>\n",
       "    <tr>\n",
       "      <th>6</th>\n",
       "      <td>{'C': 0.1, 'solver': 'liblinear', 'max_iter': ...</td>\n",
       "      <td>0.798887</td>\n",
       "    </tr>\n",
       "    <tr>\n",
       "      <th>7</th>\n",
       "      <td>{'C': 0.7, 'solver': 'saga', 'max_iter': 500}</td>\n",
       "      <td>0.502363</td>\n",
       "    </tr>\n",
       "    <tr>\n",
       "      <th>8</th>\n",
       "      <td>{'C': 1.0, 'solver': 'sag', 'max_iter': 500}</td>\n",
       "      <td>0.502655</td>\n",
       "    </tr>\n",
       "    <tr>\n",
       "      <th>9</th>\n",
       "      <td>{'C': 0.5, 'solver': 'lbfgs', 'max_iter': 500}</td>\n",
       "      <td>0.5</td>\n",
       "    </tr>\n",
       "  </tbody>\n",
       "</table>\n",
       "</div>"
      ],
      "text/plain": [
       "                                     Hyperparameters       AUC\n",
       "0  {'C': 0.5, 'solver': 'liblinear', 'max_iter': ...  0.836172\n",
       "1       {'C': 0.7, 'solver': 'sag', 'max_iter': 500}  0.502655\n",
       "2  {'C': 0.7, 'solver': 'liblinear', 'max_iter': ...  0.836183\n",
       "3       {'C': 1.0, 'solver': 'sag', 'max_iter': 500}  0.502655\n",
       "4  {'C': 0.1, 'solver': 'liblinear', 'max_iter': ...  0.798887\n",
       "5       {'C': 0.7, 'solver': 'sag', 'max_iter': 500}  0.502655\n",
       "6  {'C': 0.1, 'solver': 'liblinear', 'max_iter': ...  0.798887\n",
       "7      {'C': 0.7, 'solver': 'saga', 'max_iter': 500}  0.502363\n",
       "8       {'C': 1.0, 'solver': 'sag', 'max_iter': 500}  0.502655\n",
       "9     {'C': 0.5, 'solver': 'lbfgs', 'max_iter': 500}       0.5"
      ]
     },
     "execution_count": 145,
     "metadata": {},
     "output_type": "execute_result"
    }
   ],
   "source": [
    "log_fine_tuning"
   ]
  },
  {
   "cell_type": "code",
   "execution_count": 143,
   "metadata": {
    "hidden": true
   },
   "outputs": [
    {
     "name": "stderr",
     "output_type": "stream",
     "text": [
      "C:\\Users\\User\\anaconda3\\lib\\site-packages\\sklearn\\utils\\validation.py:993: DataConversionWarning: A column-vector y was passed when a 1d array was expected. Please change the shape of y to (n_samples, ), for example using ravel().\n",
      "  y = column_or_1d(y, warn=True)\n",
      "C:\\Users\\User\\anaconda3\\lib\\site-packages\\sklearn\\base.py:444: UserWarning: X has feature names, but LogisticRegression was fitted without feature names\n",
      "  f\"X has feature names, but {self.__class__.__name__} was fitted without\"\n"
     ]
    }
   ],
   "source": [
    "# Final model - 'C': 0.7, 'solver': 'liblinear', 'max_iter': 500\n",
    "log_final=lm.LogisticRegression(C = 0.7,\n",
    "                                solver='liblinear',\n",
    "                                max_iter=500)\n",
    "log_final.fit(np.concatenate((X_train,X_val)),np.concatenate((y_train,y_val)))\n",
    "y_hat=log_final.predict(X_test)\n",
    "log_test=__clas_metrics__(y_test,y_hat,'Logistic Regression')"
   ]
  },
  {
   "cell_type": "code",
   "execution_count": 144,
   "metadata": {
    "hidden": true
   },
   "outputs": [
    {
     "data": {
      "text/html": [
       "<div>\n",
       "<style scoped>\n",
       "    .dataframe tbody tr th:only-of-type {\n",
       "        vertical-align: middle;\n",
       "    }\n",
       "\n",
       "    .dataframe tbody tr th {\n",
       "        vertical-align: top;\n",
       "    }\n",
       "\n",
       "    .dataframe thead th {\n",
       "        text-align: right;\n",
       "    }\n",
       "</style>\n",
       "<table border=\"1\" class=\"dataframe\">\n",
       "  <thead>\n",
       "    <tr style=\"text-align: right;\">\n",
       "      <th></th>\n",
       "      <th>Algorithm</th>\n",
       "      <th>Accuracy</th>\n",
       "      <th>Precision</th>\n",
       "      <th>Recall</th>\n",
       "      <th>F1 Score</th>\n",
       "    </tr>\n",
       "  </thead>\n",
       "  <tbody>\n",
       "    <tr>\n",
       "      <th>0</th>\n",
       "      <td>Logistic Regression</td>\n",
       "      <td>0.641216</td>\n",
       "      <td>0.629801</td>\n",
       "      <td>0.442939</td>\n",
       "      <td>0.520095</td>\n",
       "    </tr>\n",
       "  </tbody>\n",
       "</table>\n",
       "</div>"
      ],
      "text/plain": [
       "             Algorithm  Accuracy Precision    Recall  F1 Score\n",
       "0  Logistic Regression  0.641216  0.629801  0.442939  0.520095"
      ]
     },
     "execution_count": 144,
     "metadata": {},
     "output_type": "execute_result"
    }
   ],
   "source": [
    "log_test"
   ]
  },
  {
   "cell_type": "markdown",
   "metadata": {
    "hidden": true
   },
   "source": [
    "## 1.5 Results Summary"
   ]
  },
  {
   "cell_type": "code",
   "execution_count": 166,
   "metadata": {
    "code_folding": [],
    "hidden": true
   },
   "outputs": [
    {
     "data": {
      "text/html": [
       "<div>\n",
       "<style scoped>\n",
       "    .dataframe tbody tr th:only-of-type {\n",
       "        vertical-align: middle;\n",
       "    }\n",
       "\n",
       "    .dataframe tbody tr th {\n",
       "        vertical-align: top;\n",
       "    }\n",
       "\n",
       "    .dataframe thead th {\n",
       "        text-align: right;\n",
       "    }\n",
       "</style>\n",
       "<table border=\"1\" class=\"dataframe\">\n",
       "  <thead>\n",
       "    <tr style=\"text-align: right;\">\n",
       "      <th></th>\n",
       "      <th>Algorithm</th>\n",
       "      <th>Accuracy</th>\n",
       "      <th>Precision</th>\n",
       "      <th>Recall</th>\n",
       "      <th>F1 Score</th>\n",
       "    </tr>\n",
       "  </thead>\n",
       "  <tbody>\n",
       "    <tr>\n",
       "      <th>0</th>\n",
       "      <td>KNN</td>\n",
       "      <td>0.781562</td>\n",
       "      <td>0.755893</td>\n",
       "      <td>0.732563</td>\n",
       "      <td>0.744046</td>\n",
       "    </tr>\n",
       "    <tr>\n",
       "      <th>0</th>\n",
       "      <td>Decision Tree</td>\n",
       "      <td>1</td>\n",
       "      <td>1</td>\n",
       "      <td>1</td>\n",
       "      <td>1</td>\n",
       "    </tr>\n",
       "    <tr>\n",
       "      <th>0</th>\n",
       "      <td>Random Forest</td>\n",
       "      <td>1</td>\n",
       "      <td>1</td>\n",
       "      <td>1</td>\n",
       "      <td>1</td>\n",
       "    </tr>\n",
       "    <tr>\n",
       "      <th>0</th>\n",
       "      <td>Logistic Regression</td>\n",
       "      <td>0.5666</td>\n",
       "      <td>0</td>\n",
       "      <td>0</td>\n",
       "      <td>0</td>\n",
       "    </tr>\n",
       "  </tbody>\n",
       "</table>\n",
       "</div>"
      ],
      "text/plain": [
       "             Algorithm  Accuracy Precision    Recall  F1 Score\n",
       "0                  KNN  0.781562  0.755893  0.732563  0.744046\n",
       "0        Decision Tree         1         1         1         1\n",
       "0        Random Forest         1         1         1         1\n",
       "0  Logistic Regression    0.5666         0         0         0"
      ]
     },
     "execution_count": 166,
     "metadata": {},
     "output_type": "execute_result"
    }
   ],
   "source": [
    "# Prediction over training dataset\n",
    "train_pred_clas=pd.concat([knn_train,dt_train,rf_train,log_train])\n",
    "train_pred_clas"
   ]
  },
  {
   "cell_type": "code",
   "execution_count": 149,
   "metadata": {
    "code_folding": [
     0
    ],
    "hidden": true
   },
   "outputs": [
    {
     "data": {
      "text/html": [
       "<div>\n",
       "<style scoped>\n",
       "    .dataframe tbody tr th:only-of-type {\n",
       "        vertical-align: middle;\n",
       "    }\n",
       "\n",
       "    .dataframe tbody tr th {\n",
       "        vertical-align: top;\n",
       "    }\n",
       "\n",
       "    .dataframe thead th {\n",
       "        text-align: right;\n",
       "    }\n",
       "</style>\n",
       "<table border=\"1\" class=\"dataframe\">\n",
       "  <thead>\n",
       "    <tr style=\"text-align: right;\">\n",
       "      <th></th>\n",
       "      <th>Algorithm</th>\n",
       "      <th>Accuracy</th>\n",
       "      <th>Precision</th>\n",
       "      <th>Recall</th>\n",
       "      <th>F1 Score</th>\n",
       "    </tr>\n",
       "  </thead>\n",
       "  <tbody>\n",
       "    <tr>\n",
       "      <th>0</th>\n",
       "      <td>KNN</td>\n",
       "      <td>0.675665</td>\n",
       "      <td>0.631775</td>\n",
       "      <td>0.603163</td>\n",
       "      <td>0.617138</td>\n",
       "    </tr>\n",
       "    <tr>\n",
       "      <th>0</th>\n",
       "      <td>Decision Tree</td>\n",
       "      <td>0.945333</td>\n",
       "      <td>0.935345</td>\n",
       "      <td>0.938748</td>\n",
       "      <td>0.937044</td>\n",
       "    </tr>\n",
       "    <tr>\n",
       "      <th>0</th>\n",
       "      <td>Random Forest</td>\n",
       "      <td>0.964478</td>\n",
       "      <td>0.973573</td>\n",
       "      <td>0.943648</td>\n",
       "      <td>0.958377</td>\n",
       "    </tr>\n",
       "    <tr>\n",
       "      <th>0</th>\n",
       "      <td>Logistic Regression</td>\n",
       "      <td>0.566621</td>\n",
       "      <td>0</td>\n",
       "      <td>0</td>\n",
       "      <td>0</td>\n",
       "    </tr>\n",
       "  </tbody>\n",
       "</table>\n",
       "</div>"
      ],
      "text/plain": [
       "             Algorithm  Accuracy Precision    Recall  F1 Score\n",
       "0                  KNN  0.675665  0.631775  0.603163  0.617138\n",
       "0        Decision Tree  0.945333  0.935345  0.938748  0.937044\n",
       "0        Random Forest  0.964478  0.973573  0.943648  0.958377\n",
       "0  Logistic Regression  0.566621         0         0         0"
      ]
     },
     "execution_count": 149,
     "metadata": {},
     "output_type": "execute_result"
    }
   ],
   "source": [
    "# Prediction over validation dataset\n",
    "train_val_clas=pd.concat([knn_val,dt_val,rf_val,log_val])\n",
    "train_val_clas"
   ]
  },
  {
   "cell_type": "code",
   "execution_count": 154,
   "metadata": {
    "code_folding": [
     0
    ],
    "hidden": true
   },
   "outputs": [
    {
     "data": {
      "text/html": [
       "<div>\n",
       "<style scoped>\n",
       "    .dataframe tbody tr th:only-of-type {\n",
       "        vertical-align: middle;\n",
       "    }\n",
       "\n",
       "    .dataframe tbody tr th {\n",
       "        vertical-align: top;\n",
       "    }\n",
       "\n",
       "    .dataframe thead th {\n",
       "        text-align: right;\n",
       "    }\n",
       "</style>\n",
       "<table border=\"1\" class=\"dataframe\">\n",
       "  <thead>\n",
       "    <tr style=\"text-align: right;\">\n",
       "      <th></th>\n",
       "      <th>Algorithm</th>\n",
       "      <th>Accuracy</th>\n",
       "      <th>Precision</th>\n",
       "      <th>Recall</th>\n",
       "      <th>F1 Score</th>\n",
       "    </tr>\n",
       "  </thead>\n",
       "  <tbody>\n",
       "    <tr>\n",
       "      <th>0</th>\n",
       "      <td>KNN</td>\n",
       "      <td>0.688449</td>\n",
       "      <td>0.648025</td>\n",
       "      <td>0.635196</td>\n",
       "      <td>0.641546</td>\n",
       "    </tr>\n",
       "    <tr>\n",
       "      <th>0</th>\n",
       "      <td>Decision Tree</td>\n",
       "      <td>0.954853</td>\n",
       "      <td>0.952432</td>\n",
       "      <td>0.944303</td>\n",
       "      <td>0.94835</td>\n",
       "    </tr>\n",
       "    <tr>\n",
       "      <th>0</th>\n",
       "      <td>Random Forest</td>\n",
       "      <td>0.965628</td>\n",
       "      <td>0.973853</td>\n",
       "      <td>0.947118</td>\n",
       "      <td>0.9603</td>\n",
       "    </tr>\n",
       "    <tr>\n",
       "      <th>0</th>\n",
       "      <td>Logistic Regression</td>\n",
       "      <td>0.641216</td>\n",
       "      <td>0.629801</td>\n",
       "      <td>0.442939</td>\n",
       "      <td>0.520095</td>\n",
       "    </tr>\n",
       "  </tbody>\n",
       "</table>\n",
       "</div>"
      ],
      "text/plain": [
       "             Algorithm  Accuracy Precision    Recall  F1 Score\n",
       "0                  KNN  0.688449  0.648025  0.635196  0.641546\n",
       "0        Decision Tree  0.954853  0.952432  0.944303   0.94835\n",
       "0        Random Forest  0.965628  0.973853  0.947118    0.9603\n",
       "0  Logistic Regression  0.641216  0.629801  0.442939  0.520095"
      ]
     },
     "execution_count": 154,
     "metadata": {},
     "output_type": "execute_result"
    }
   ],
   "source": [
    "# Prediction over test dataset\n",
    "train_test_clas=pd.concat([knn_test,dt_test,rf_test,log_test])\n",
    "train_test_clas"
   ]
  },
  {
   "cell_type": "markdown",
   "metadata": {
    "heading_collapsed": true
   },
   "source": [
    "# 2.0 Regression Algorithms"
   ]
  },
  {
   "cell_type": "code",
   "execution_count": 8,
   "metadata": {
    "hidden": true
   },
   "outputs": [],
   "source": [
    "os.chdir('../datasets/regression')\n",
    "X_test=pd.read_csv('X_test.csv',low_memory=False)\n",
    "X_val=pd.read_csv('X_validation.csv',low_memory=False)\n",
    "X_train=pd.read_csv('X_training.csv',low_memory=False)\n",
    "y_test=pd.read_csv('y_test.csv',low_memory=False)\n",
    "y_val=pd.read_csv('y_val.csv',low_memory=False)\n",
    "y_train=pd.read_csv('y_training.csv',low_memory=False)"
   ]
  },
  {
   "cell_type": "markdown",
   "metadata": {
    "heading_collapsed": true,
    "hidden": true
   },
   "source": [
    "## 2.1 Decision Tree Regressor"
   ]
  },
  {
   "cell_type": "code",
   "execution_count": 9,
   "metadata": {
    "hidden": true
   },
   "outputs": [],
   "source": [
    "# Model define - Default hyperparameters\n",
    "dt_reg=tr.DecisionTreeRegressor()\n",
    "dt_reg.fit(X_train,y_train)\n",
    "# Predict over training dataset\n",
    "y_pred_train=dt_reg.predict(X_train)\n",
    "dt_reg_train=__reg_metrics__(y_train,y_pred_train,'Decision Tree Regressor')\n",
    "# Predict over validation dataset\n",
    "y_pred_val=dt_reg.predict(X_val)\n",
    "dt_reg_val=__reg_metrics__(y_val,y_pred_val,'Decision Tree Regressor')"
   ]
  },
  {
   "cell_type": "code",
   "execution_count": 10,
   "metadata": {
    "hidden": true
   },
   "outputs": [
    {
     "data": {
      "image/png": "[encoded data removed]",
      "text/plain": [
       "<Figure size 720x360 with 1 Axes>"
      ]
     },
     "metadata": {
      "needs_background": "light"
     },
     "output_type": "display_data"
    }
   ],
   "source": [
    "# Hyperparameter fine tuning - max_depth\n",
    "mse_list=[]\n",
    "max_depth_list=[]\n",
    "for i in range(1,60):\n",
    "    dt_reg=tr.DecisionTreeRegressor(max_depth=i)\n",
    "    dt_reg.fit(X_train,y_train)\n",
    "    y_hat=dt_reg.predict(X_val)\n",
    "    mse_list.append(mt.mean_squared_error(y_val,y_hat))\n",
    "    max_depth_list.append(i)\n",
    "plt.figure(figsize=(10,5));\n",
    "plt.plot(max_depth_list,mse_list)\n",
    "plt.xlabel('max_depth');\n",
    "plt.ylabel('MSE');"
   ]
  },
  {
   "cell_type": "code",
   "execution_count": 11,
   "metadata": {
    "hidden": true
   },
   "outputs": [
    {
     "name": "stderr",
     "output_type": "stream",
     "text": [
      "C:\\Users\\User\\anaconda3\\lib\\site-packages\\sklearn\\base.py:444: UserWarning: X has feature names, but DecisionTreeRegressor was fitted without feature names\n",
      "  f\"X has feature names, but {self.__class__.__name__} was fitted without\"\n"
     ]
    }
   ],
   "source": [
    "# Final model - max_depth=5\n",
    "dt_reg_final=tr.DecisionTreeRegressor(max_depth=5)\n",
    "dt_reg_final.fit(np.concatenate((X_train,X_val)),np.concatenate((y_train,y_val)))\n",
    "y_hat=dt_reg_final.predict(X_test)\n",
    "dt_reg_test=__reg_metrics__(y_test,y_hat,'Decision Tree Regressor')"
   ]
  },
  {
   "cell_type": "markdown",
   "metadata": {
    "heading_collapsed": true,
    "hidden": true
   },
   "source": [
    "## 2.2 Random Forest Regressor"
   ]
  },
  {
   "cell_type": "code",
   "execution_count": 12,
   "metadata": {
    "hidden": true
   },
   "outputs": [
    {
     "name": "stderr",
     "output_type": "stream",
     "text": [
      "C:\\Users\\User\\anaconda3\\lib\\site-packages\\ipykernel_launcher.py:3: DataConversionWarning: A column-vector y was passed when a 1d array was expected. Please change the shape of y to (n_samples,), for example using ravel().\n",
      "  This is separate from the ipykernel package so we can avoid doing imports until\n"
     ]
    }
   ],
   "source": [
    "# Model define - Default hyperparameters\n",
    "rf_reg=en.RandomForestRegressor()\n",
    "rf_reg.fit(X_train,y_train)\n",
    "# Predict over training dataset\n",
    "y_pred_train=rf_reg.predict(X_train)\n",
    "rf_reg_train=__reg_metrics__(y_train,y_pred_train,'Random Forest Regressor')\n",
    "# Predict over validation dataset\n",
    "y_pred_val=rf_reg.predict(X_val)\n",
    "rf_reg_val=__reg_metrics__(y_val,y_pred_val,'Random Forest Regressor')"
   ]
  },
  {
   "cell_type": "code",
   "execution_count": 27,
   "metadata": {
    "hidden": true
   },
   "outputs": [
    {
     "name": "stderr",
     "output_type": "stream",
     "text": [
      "C:\\Users\\User\\anaconda3\\lib\\site-packages\\ipykernel_launcher.py:10: DataConversionWarning: A column-vector y was passed when a 1d array was expected. Please change the shape of y to (n_samples,), for example using ravel().\n",
      "  # Remove the CWD from sys.path while we load stuff.\n",
      "C:\\Users\\User\\anaconda3\\lib\\site-packages\\ipykernel_launcher.py:10: DataConversionWarning: A column-vector y was passed when a 1d array was expected. Please change the shape of y to (n_samples,), for example using ravel().\n",
      "  # Remove the CWD from sys.path while we load stuff.\n",
      "C:\\Users\\User\\anaconda3\\lib\\site-packages\\ipykernel_launcher.py:10: DataConversionWarning: A column-vector y was passed when a 1d array was expected. Please change the shape of y to (n_samples,), for example using ravel().\n",
      "  # Remove the CWD from sys.path while we load stuff.\n",
      "C:\\Users\\User\\anaconda3\\lib\\site-packages\\ipykernel_launcher.py:10: DataConversionWarning: A column-vector y was passed when a 1d array was expected. Please change the shape of y to (n_samples,), for example using ravel().\n",
      "  # Remove the CWD from sys.path while we load stuff.\n",
      "C:\\Users\\User\\anaconda3\\lib\\site-packages\\ipykernel_launcher.py:10: DataConversionWarning: A column-vector y was passed when a 1d array was expected. Please change the shape of y to (n_samples,), for example using ravel().\n",
      "  # Remove the CWD from sys.path while we load stuff.\n",
      "C:\\Users\\User\\anaconda3\\lib\\site-packages\\ipykernel_launcher.py:10: DataConversionWarning: A column-vector y was passed when a 1d array was expected. Please change the shape of y to (n_samples,), for example using ravel().\n",
      "  # Remove the CWD from sys.path while we load stuff.\n",
      "C:\\Users\\User\\anaconda3\\lib\\site-packages\\ipykernel_launcher.py:10: DataConversionWarning: A column-vector y was passed when a 1d array was expected. Please change the shape of y to (n_samples,), for example using ravel().\n",
      "  # Remove the CWD from sys.path while we load stuff.\n",
      "C:\\Users\\User\\anaconda3\\lib\\site-packages\\ipykernel_launcher.py:10: DataConversionWarning: A column-vector y was passed when a 1d array was expected. Please change the shape of y to (n_samples,), for example using ravel().\n",
      "  # Remove the CWD from sys.path while we load stuff.\n",
      "C:\\Users\\User\\anaconda3\\lib\\site-packages\\ipykernel_launcher.py:10: DataConversionWarning: A column-vector y was passed when a 1d array was expected. Please change the shape of y to (n_samples,), for example using ravel().\n",
      "  # Remove the CWD from sys.path while we load stuff.\n",
      "C:\\Users\\User\\anaconda3\\lib\\site-packages\\ipykernel_launcher.py:10: DataConversionWarning: A column-vector y was passed when a 1d array was expected. Please change the shape of y to (n_samples,), for example using ravel().\n",
      "  # Remove the CWD from sys.path while we load stuff.\n"
     ]
    }
   ],
   "source": [
    "# Hyperparameter fine tuning - n_estimators,max_depth\n",
    "parameters={'n_estimators':[10,50,100,200],\n",
    "            'max_depth':[5,10,20,30,40]}\n",
    "mse_list=[]\n",
    "parameters_list=[]\n",
    "for i in range(10):\n",
    "    hp=__random_search__(parameters)\n",
    "    rf_reg=en.RandomForestRegressor(n_estimators=hp['n_estimators'],\n",
    "                                     max_depth=hp['max_depth'])\n",
    "    rf_reg.fit(X_train,y_train)\n",
    "    y_hat=rf_reg.predict(X_val)\n",
    "    mse_list.append(mt.mean_squared_error(y_val,y_hat))\n",
    "    parameters_list.append(hp)\n",
    "fine_tuning_results=pd.DataFrame([parameters_list,mse_list]).T\n",
    "fine_tuning_results.columns=['Hyperparameters','MSE']"
   ]
  },
  {
   "cell_type": "code",
   "execution_count": 35,
   "metadata": {
    "hidden": true
   },
   "outputs": [
    {
     "data": {
      "text/html": [
       "<div>\n",
       "<style scoped>\n",
       "    .dataframe tbody tr th:only-of-type {\n",
       "        vertical-align: middle;\n",
       "    }\n",
       "\n",
       "    .dataframe tbody tr th {\n",
       "        vertical-align: top;\n",
       "    }\n",
       "\n",
       "    .dataframe thead th {\n",
       "        text-align: right;\n",
       "    }\n",
       "</style>\n",
       "<table border=\"1\" class=\"dataframe\">\n",
       "  <thead>\n",
       "    <tr style=\"text-align: right;\">\n",
       "      <th></th>\n",
       "      <th>Hyperparameters</th>\n",
       "      <th>MSE</th>\n",
       "    </tr>\n",
       "  </thead>\n",
       "  <tbody>\n",
       "    <tr>\n",
       "      <th>0</th>\n",
       "      <td>{'n_estimators': 10, 'max_depth': 20}</td>\n",
       "      <td>350.106</td>\n",
       "    </tr>\n",
       "    <tr>\n",
       "      <th>1</th>\n",
       "      <td>{'n_estimators': 10, 'max_depth': 5}</td>\n",
       "      <td>432.396</td>\n",
       "    </tr>\n",
       "    <tr>\n",
       "      <th>2</th>\n",
       "      <td>{'n_estimators': 100, 'max_depth': 5}</td>\n",
       "      <td>430.374</td>\n",
       "    </tr>\n",
       "    <tr>\n",
       "      <th>3</th>\n",
       "      <td>{'n_estimators': 100, 'max_depth': 40}</td>\n",
       "      <td>318.616</td>\n",
       "    </tr>\n",
       "    <tr>\n",
       "      <th>4</th>\n",
       "      <td>{'n_estimators': 50, 'max_depth': 30}</td>\n",
       "      <td>324.969</td>\n",
       "    </tr>\n",
       "    <tr>\n",
       "      <th>5</th>\n",
       "      <td>{'n_estimators': 10, 'max_depth': 5}</td>\n",
       "      <td>432.974</td>\n",
       "    </tr>\n",
       "    <tr>\n",
       "      <th>6</th>\n",
       "      <td>{'n_estimators': 50, 'max_depth': 40}</td>\n",
       "      <td>321.404</td>\n",
       "    </tr>\n",
       "    <tr>\n",
       "      <th>7</th>\n",
       "      <td>{'n_estimators': 10, 'max_depth': 30}</td>\n",
       "      <td>349.773</td>\n",
       "    </tr>\n",
       "    <tr>\n",
       "      <th>8</th>\n",
       "      <td>{'n_estimators': 10, 'max_depth': 30}</td>\n",
       "      <td>348.154</td>\n",
       "    </tr>\n",
       "    <tr>\n",
       "      <th>9</th>\n",
       "      <td>{'n_estimators': 200, 'max_depth': 20}</td>\n",
       "      <td>317.23</td>\n",
       "    </tr>\n",
       "  </tbody>\n",
       "</table>\n",
       "</div>"
      ],
      "text/plain": [
       "                          Hyperparameters      MSE\n",
       "0   {'n_estimators': 10, 'max_depth': 20}  350.106\n",
       "1    {'n_estimators': 10, 'max_depth': 5}  432.396\n",
       "2   {'n_estimators': 100, 'max_depth': 5}  430.374\n",
       "3  {'n_estimators': 100, 'max_depth': 40}  318.616\n",
       "4   {'n_estimators': 50, 'max_depth': 30}  324.969\n",
       "5    {'n_estimators': 10, 'max_depth': 5}  432.974\n",
       "6   {'n_estimators': 50, 'max_depth': 40}  321.404\n",
       "7   {'n_estimators': 10, 'max_depth': 30}  349.773\n",
       "8   {'n_estimators': 10, 'max_depth': 30}  348.154\n",
       "9  {'n_estimators': 200, 'max_depth': 20}   317.23"
      ]
     },
     "execution_count": 35,
     "metadata": {},
     "output_type": "execute_result"
    }
   ],
   "source": [
    "fine_tuning_results"
   ]
  },
  {
   "cell_type": "code",
   "execution_count": 36,
   "metadata": {
    "hidden": true
   },
   "outputs": [
    {
     "name": "stderr",
     "output_type": "stream",
     "text": [
      "C:\\Users\\User\\anaconda3\\lib\\site-packages\\ipykernel_launcher.py:4: DataConversionWarning: A column-vector y was passed when a 1d array was expected. Please change the shape of y to (n_samples,), for example using ravel().\n",
      "  after removing the cwd from sys.path.\n",
      "C:\\Users\\User\\anaconda3\\lib\\site-packages\\sklearn\\base.py:444: UserWarning: X has feature names, but RandomForestRegressor was fitted without feature names\n",
      "  f\"X has feature names, but {self.__class__.__name__} was fitted without\"\n"
     ]
    }
   ],
   "source": [
    "# Final model - 'n_estimators': 200, 'max_depth': 20\n",
    "rf_reg_final=en.RandomForestRegressor(n_estimators=200,\n",
    "                                      max_depth=20)\n",
    "rf_reg_final.fit(np.concatenate((X_train,X_val)),np.concatenate((y_train,y_val)))\n",
    "y_hat=rf_reg_final.predict(X_test)\n",
    "rf_reg_test=__reg_metrics__(y_test,y_hat,'Random Forest Regressor')"
   ]
  },
  {
   "cell_type": "markdown",
   "metadata": {
    "heading_collapsed": true,
    "hidden": true
   },
   "source": [
    "## 2.3 Linear Regression Lasso"
   ]
  },
  {
   "cell_type": "code",
   "execution_count": 43,
   "metadata": {
    "hidden": true
   },
   "outputs": [],
   "source": [
    "# Model define - Default hyperparameters\n",
    "lasso=lm.Lasso()\n",
    "lasso.fit(X_train,y_train)\n",
    "# Predict over training dataset\n",
    "y_pred_train=lasso.predict(X_train)\n",
    "lasso_train=__reg_metrics__(y_train,y_pred_train,'Linear Regression Lasso')\n",
    "# Predict over validation dataset\n",
    "y_pred_val=lasso.predict(X_val)\n",
    "lasso_val=__reg_metrics__(y_val,y_pred_val,'Linear Regression Lasso')"
   ]
  },
  {
   "cell_type": "code",
   "execution_count": 52,
   "metadata": {
    "hidden": true
   },
   "outputs": [],
   "source": [
    "# Hyperparameter fine tuning - alpha,max_iter\n",
    "parameters = {'alpha':[1e-3,1e-2,1e-1,0.5,1.0],\n",
    "              'max_iter':[1000,2000,5000,10000]}\n",
    "parameters_list=[]\n",
    "mse_list=[]\n",
    "for i in range(20):\n",
    "    hp=__random_search__(parameters)\n",
    "    lasso=lm.Lasso(alpha=hp['alpha'],\n",
    "                   max_iter=hp['max_iter'])\n",
    "    lasso.fit(X_train,y_train)\n",
    "    y_hat=lasso.predict(X_val)\n",
    "    mse_list.append(mt.mean_squared_error(y_val,y_hat))\n",
    "    parameters_list.append(hp)\n",
    "fine_tuning_results=pd.DataFrame([parameters_list,mse_list]).T\n",
    "fine_tuning_results.columns=['Hyperparameters','MSE']"
   ]
  },
  {
   "cell_type": "code",
   "execution_count": 55,
   "metadata": {
    "hidden": true
   },
   "outputs": [
    {
     "data": {
      "text/html": [
       "<div>\n",
       "<style scoped>\n",
       "    .dataframe tbody tr th:only-of-type {\n",
       "        vertical-align: middle;\n",
       "    }\n",
       "\n",
       "    .dataframe tbody tr th {\n",
       "        vertical-align: top;\n",
       "    }\n",
       "\n",
       "    .dataframe thead th {\n",
       "        text-align: right;\n",
       "    }\n",
       "</style>\n",
       "<table border=\"1\" class=\"dataframe\">\n",
       "  <thead>\n",
       "    <tr style=\"text-align: right;\">\n",
       "      <th></th>\n",
       "      <th>Hyperparameters</th>\n",
       "      <th>MSE</th>\n",
       "    </tr>\n",
       "  </thead>\n",
       "  <tbody>\n",
       "    <tr>\n",
       "      <th>0</th>\n",
       "      <td>{'alpha': 0.1, 'max_iter': 5000}</td>\n",
       "      <td>459.75</td>\n",
       "    </tr>\n",
       "    <tr>\n",
       "      <th>1</th>\n",
       "      <td>{'alpha': 1.0, 'max_iter': 1000}</td>\n",
       "      <td>473.747</td>\n",
       "    </tr>\n",
       "    <tr>\n",
       "      <th>2</th>\n",
       "      <td>{'alpha': 0.5, 'max_iter': 2000}</td>\n",
       "      <td>472.563</td>\n",
       "    </tr>\n",
       "    <tr>\n",
       "      <th>3</th>\n",
       "      <td>{'alpha': 0.001, 'max_iter': 10000}</td>\n",
       "      <td>458.441</td>\n",
       "    </tr>\n",
       "    <tr>\n",
       "      <th>4</th>\n",
       "      <td>{'alpha': 0.5, 'max_iter': 1000}</td>\n",
       "      <td>472.563</td>\n",
       "    </tr>\n",
       "    <tr>\n",
       "      <th>5</th>\n",
       "      <td>{'alpha': 0.01, 'max_iter': 10000}</td>\n",
       "      <td>458.445</td>\n",
       "    </tr>\n",
       "    <tr>\n",
       "      <th>6</th>\n",
       "      <td>{'alpha': 0.5, 'max_iter': 5000}</td>\n",
       "      <td>472.563</td>\n",
       "    </tr>\n",
       "    <tr>\n",
       "      <th>7</th>\n",
       "      <td>{'alpha': 0.01, 'max_iter': 10000}</td>\n",
       "      <td>458.445</td>\n",
       "    </tr>\n",
       "    <tr>\n",
       "      <th>8</th>\n",
       "      <td>{'alpha': 0.001, 'max_iter': 2000}</td>\n",
       "      <td>458.441</td>\n",
       "    </tr>\n",
       "    <tr>\n",
       "      <th>9</th>\n",
       "      <td>{'alpha': 1.0, 'max_iter': 5000}</td>\n",
       "      <td>473.747</td>\n",
       "    </tr>\n",
       "    <tr>\n",
       "      <th>10</th>\n",
       "      <td>{'alpha': 0.1, 'max_iter': 2000}</td>\n",
       "      <td>459.75</td>\n",
       "    </tr>\n",
       "    <tr>\n",
       "      <th>11</th>\n",
       "      <td>{'alpha': 0.01, 'max_iter': 2000}</td>\n",
       "      <td>458.445</td>\n",
       "    </tr>\n",
       "    <tr>\n",
       "      <th>12</th>\n",
       "      <td>{'alpha': 0.01, 'max_iter': 5000}</td>\n",
       "      <td>458.445</td>\n",
       "    </tr>\n",
       "    <tr>\n",
       "      <th>13</th>\n",
       "      <td>{'alpha': 0.001, 'max_iter': 2000}</td>\n",
       "      <td>458.441</td>\n",
       "    </tr>\n",
       "    <tr>\n",
       "      <th>14</th>\n",
       "      <td>{'alpha': 0.5, 'max_iter': 1000}</td>\n",
       "      <td>472.563</td>\n",
       "    </tr>\n",
       "    <tr>\n",
       "      <th>15</th>\n",
       "      <td>{'alpha': 0.01, 'max_iter': 2000}</td>\n",
       "      <td>458.445</td>\n",
       "    </tr>\n",
       "    <tr>\n",
       "      <th>16</th>\n",
       "      <td>{'alpha': 0.001, 'max_iter': 5000}</td>\n",
       "      <td>458.441</td>\n",
       "    </tr>\n",
       "    <tr>\n",
       "      <th>17</th>\n",
       "      <td>{'alpha': 1.0, 'max_iter': 1000}</td>\n",
       "      <td>473.747</td>\n",
       "    </tr>\n",
       "    <tr>\n",
       "      <th>18</th>\n",
       "      <td>{'alpha': 1.0, 'max_iter': 2000}</td>\n",
       "      <td>473.747</td>\n",
       "    </tr>\n",
       "    <tr>\n",
       "      <th>19</th>\n",
       "      <td>{'alpha': 0.01, 'max_iter': 2000}</td>\n",
       "      <td>458.445</td>\n",
       "    </tr>\n",
       "  </tbody>\n",
       "</table>\n",
       "</div>"
      ],
      "text/plain": [
       "                        Hyperparameters      MSE\n",
       "0      {'alpha': 0.1, 'max_iter': 5000}   459.75\n",
       "1      {'alpha': 1.0, 'max_iter': 1000}  473.747\n",
       "2      {'alpha': 0.5, 'max_iter': 2000}  472.563\n",
       "3   {'alpha': 0.001, 'max_iter': 10000}  458.441\n",
       "4      {'alpha': 0.5, 'max_iter': 1000}  472.563\n",
       "5    {'alpha': 0.01, 'max_iter': 10000}  458.445\n",
       "6      {'alpha': 0.5, 'max_iter': 5000}  472.563\n",
       "7    {'alpha': 0.01, 'max_iter': 10000}  458.445\n",
       "8    {'alpha': 0.001, 'max_iter': 2000}  458.441\n",
       "9      {'alpha': 1.0, 'max_iter': 5000}  473.747\n",
       "10     {'alpha': 0.1, 'max_iter': 2000}   459.75\n",
       "11    {'alpha': 0.01, 'max_iter': 2000}  458.445\n",
       "12    {'alpha': 0.01, 'max_iter': 5000}  458.445\n",
       "13   {'alpha': 0.001, 'max_iter': 2000}  458.441\n",
       "14     {'alpha': 0.5, 'max_iter': 1000}  472.563\n",
       "15    {'alpha': 0.01, 'max_iter': 2000}  458.445\n",
       "16   {'alpha': 0.001, 'max_iter': 5000}  458.441\n",
       "17     {'alpha': 1.0, 'max_iter': 1000}  473.747\n",
       "18     {'alpha': 1.0, 'max_iter': 2000}  473.747\n",
       "19    {'alpha': 0.01, 'max_iter': 2000}  458.445"
      ]
     },
     "execution_count": 55,
     "metadata": {},
     "output_type": "execute_result"
    }
   ],
   "source": [
    "fine_tuning_results"
   ]
  },
  {
   "cell_type": "code",
   "execution_count": 56,
   "metadata": {
    "hidden": true
   },
   "outputs": [
    {
     "name": "stderr",
     "output_type": "stream",
     "text": [
      "C:\\Users\\User\\anaconda3\\lib\\site-packages\\sklearn\\base.py:444: UserWarning: X has feature names, but Lasso was fitted without feature names\n",
      "  f\"X has feature names, but {self.__class__.__name__} was fitted without\"\n"
     ]
    }
   ],
   "source": [
    "# Final model - 'alpha': 0.01, 'max_iter': 2000\n",
    "lasso_final=lm.Lasso(alpha=0.01,\n",
    "               max_iter=2000)\n",
    "lasso_final.fit(np.concatenate((X_train,X_val)),np.concatenate((y_train,y_val)))\n",
    "y_hat=lasso_final.predict(X_test)\n",
    "lasso_test=__reg_metrics__(y_test,y_hat,'Linear Regression Lasso')"
   ]
  },
  {
   "cell_type": "markdown",
   "metadata": {
    "heading_collapsed": true,
    "hidden": true
   },
   "source": [
    "## 2.4 Linear Regression Ridge"
   ]
  },
  {
   "cell_type": "code",
   "execution_count": 58,
   "metadata": {
    "hidden": true
   },
   "outputs": [],
   "source": [
    "# Define model - Default hyperparameters\n",
    "ridge=lm.Ridge()\n",
    "ridge.fit(X_train,y_train)\n",
    "# Predict over training dataset\n",
    "y_pred_train=ridge.predict(X_train)\n",
    "ridge_train=__reg_metrics__(y_train,y_pred_train,'Linear Regression Ridge')\n",
    "# Predict over validation dataset\n",
    "y_pred_val=ridge.predict(X_val)\n",
    "ridge_val=__reg_metrics__(y_val,y_pred_val,'Linear Regression Ridge')"
   ]
  },
  {
   "cell_type": "code",
   "execution_count": 61,
   "metadata": {
    "hidden": true
   },
   "outputs": [
    {
     "data": {
      "text/html": [
       "<div>\n",
       "<style scoped>\n",
       "    .dataframe tbody tr th:only-of-type {\n",
       "        vertical-align: middle;\n",
       "    }\n",
       "\n",
       "    .dataframe tbody tr th {\n",
       "        vertical-align: top;\n",
       "    }\n",
       "\n",
       "    .dataframe thead th {\n",
       "        text-align: right;\n",
       "    }\n",
       "</style>\n",
       "<table border=\"1\" class=\"dataframe\">\n",
       "  <thead>\n",
       "    <tr style=\"text-align: right;\">\n",
       "      <th></th>\n",
       "      <th>Hyperparameters</th>\n",
       "      <th>MSE</th>\n",
       "    </tr>\n",
       "  </thead>\n",
       "  <tbody>\n",
       "    <tr>\n",
       "      <th>0</th>\n",
       "      <td>{'alpha': 0.1, 'max_iter': 1000}</td>\n",
       "      <td>458.447</td>\n",
       "    </tr>\n",
       "    <tr>\n",
       "      <th>1</th>\n",
       "      <td>{'alpha': 0.001, 'max_iter': 10000}</td>\n",
       "      <td>458.447</td>\n",
       "    </tr>\n",
       "    <tr>\n",
       "      <th>2</th>\n",
       "      <td>{'alpha': 0.001, 'max_iter': 5000}</td>\n",
       "      <td>458.447</td>\n",
       "    </tr>\n",
       "    <tr>\n",
       "      <th>3</th>\n",
       "      <td>{'alpha': 0.1, 'max_iter': 1000}</td>\n",
       "      <td>458.447</td>\n",
       "    </tr>\n",
       "    <tr>\n",
       "      <th>4</th>\n",
       "      <td>{'alpha': 0.5, 'max_iter': 10000}</td>\n",
       "      <td>458.446</td>\n",
       "    </tr>\n",
       "    <tr>\n",
       "      <th>5</th>\n",
       "      <td>{'alpha': 0.1, 'max_iter': 10000}</td>\n",
       "      <td>458.447</td>\n",
       "    </tr>\n",
       "    <tr>\n",
       "      <th>6</th>\n",
       "      <td>{'alpha': 1.0, 'max_iter': 2000}</td>\n",
       "      <td>458.445</td>\n",
       "    </tr>\n",
       "    <tr>\n",
       "      <th>7</th>\n",
       "      <td>{'alpha': 0.001, 'max_iter': 1000}</td>\n",
       "      <td>458.447</td>\n",
       "    </tr>\n",
       "    <tr>\n",
       "      <th>8</th>\n",
       "      <td>{'alpha': 0.5, 'max_iter': 1000}</td>\n",
       "      <td>458.446</td>\n",
       "    </tr>\n",
       "    <tr>\n",
       "      <th>9</th>\n",
       "      <td>{'alpha': 0.5, 'max_iter': 5000}</td>\n",
       "      <td>458.446</td>\n",
       "    </tr>\n",
       "    <tr>\n",
       "      <th>10</th>\n",
       "      <td>{'alpha': 1.0, 'max_iter': 1000}</td>\n",
       "      <td>458.445</td>\n",
       "    </tr>\n",
       "    <tr>\n",
       "      <th>11</th>\n",
       "      <td>{'alpha': 0.1, 'max_iter': 5000}</td>\n",
       "      <td>458.447</td>\n",
       "    </tr>\n",
       "    <tr>\n",
       "      <th>12</th>\n",
       "      <td>{'alpha': 1.0, 'max_iter': 1000}</td>\n",
       "      <td>458.445</td>\n",
       "    </tr>\n",
       "    <tr>\n",
       "      <th>13</th>\n",
       "      <td>{'alpha': 1.0, 'max_iter': 10000}</td>\n",
       "      <td>458.445</td>\n",
       "    </tr>\n",
       "    <tr>\n",
       "      <th>14</th>\n",
       "      <td>{'alpha': 1.0, 'max_iter': 1000}</td>\n",
       "      <td>458.445</td>\n",
       "    </tr>\n",
       "    <tr>\n",
       "      <th>15</th>\n",
       "      <td>{'alpha': 1.0, 'max_iter': 10000}</td>\n",
       "      <td>458.445</td>\n",
       "    </tr>\n",
       "    <tr>\n",
       "      <th>16</th>\n",
       "      <td>{'alpha': 1.0, 'max_iter': 2000}</td>\n",
       "      <td>458.445</td>\n",
       "    </tr>\n",
       "    <tr>\n",
       "      <th>17</th>\n",
       "      <td>{'alpha': 0.001, 'max_iter': 1000}</td>\n",
       "      <td>458.447</td>\n",
       "    </tr>\n",
       "    <tr>\n",
       "      <th>18</th>\n",
       "      <td>{'alpha': 0.1, 'max_iter': 1000}</td>\n",
       "      <td>458.447</td>\n",
       "    </tr>\n",
       "    <tr>\n",
       "      <th>19</th>\n",
       "      <td>{'alpha': 0.5, 'max_iter': 1000}</td>\n",
       "      <td>458.446</td>\n",
       "    </tr>\n",
       "  </tbody>\n",
       "</table>\n",
       "</div>"
      ],
      "text/plain": [
       "                        Hyperparameters      MSE\n",
       "0      {'alpha': 0.1, 'max_iter': 1000}  458.447\n",
       "1   {'alpha': 0.001, 'max_iter': 10000}  458.447\n",
       "2    {'alpha': 0.001, 'max_iter': 5000}  458.447\n",
       "3      {'alpha': 0.1, 'max_iter': 1000}  458.447\n",
       "4     {'alpha': 0.5, 'max_iter': 10000}  458.446\n",
       "5     {'alpha': 0.1, 'max_iter': 10000}  458.447\n",
       "6      {'alpha': 1.0, 'max_iter': 2000}  458.445\n",
       "7    {'alpha': 0.001, 'max_iter': 1000}  458.447\n",
       "8      {'alpha': 0.5, 'max_iter': 1000}  458.446\n",
       "9      {'alpha': 0.5, 'max_iter': 5000}  458.446\n",
       "10     {'alpha': 1.0, 'max_iter': 1000}  458.445\n",
       "11     {'alpha': 0.1, 'max_iter': 5000}  458.447\n",
       "12     {'alpha': 1.0, 'max_iter': 1000}  458.445\n",
       "13    {'alpha': 1.0, 'max_iter': 10000}  458.445\n",
       "14     {'alpha': 1.0, 'max_iter': 1000}  458.445\n",
       "15    {'alpha': 1.0, 'max_iter': 10000}  458.445\n",
       "16     {'alpha': 1.0, 'max_iter': 2000}  458.445\n",
       "17   {'alpha': 0.001, 'max_iter': 1000}  458.447\n",
       "18     {'alpha': 0.1, 'max_iter': 1000}  458.447\n",
       "19     {'alpha': 0.5, 'max_iter': 1000}  458.446"
      ]
     },
     "execution_count": 61,
     "metadata": {},
     "output_type": "execute_result"
    }
   ],
   "source": [
    "# Hyperparameter fine tuning - alpha,max_iter\n",
    "parameters = {'alpha':[1e-3,1e-2,1e-1,0.5,1.0],\n",
    "              'max_iter':[1000,2000,5000,10000]}\n",
    "parameters_list=[]\n",
    "mse_list=[]\n",
    "for i in range(20):\n",
    "    hp=__random_search__(parameters)\n",
    "    ridge=lm.Ridge(alpha=hp['alpha'],\n",
    "                   max_iter=hp['max_iter'])\n",
    "    ridge.fit(X_train,y_train)\n",
    "    y_hat=ridge.predict(X_val)\n",
    "    mse_list.append(mt.mean_squared_error(y_val,y_hat))\n",
    "    parameters_list.append(hp)\n",
    "fine_tuning_results=pd.DataFrame([parameters_list,mse_list]).T\n",
    "fine_tuning_results.columns=['Hyperparameters','MSE']\n",
    "fine_tuning_results"
   ]
  },
  {
   "cell_type": "code",
   "execution_count": 62,
   "metadata": {
    "hidden": true
   },
   "outputs": [
    {
     "name": "stderr",
     "output_type": "stream",
     "text": [
      "C:\\Users\\User\\anaconda3\\lib\\site-packages\\sklearn\\base.py:444: UserWarning: X has feature names, but Ridge was fitted without feature names\n",
      "  f\"X has feature names, but {self.__class__.__name__} was fitted without\"\n"
     ]
    }
   ],
   "source": [
    "# Final model - Default hyperparamenters\n",
    "ridge_final=lm.Ridge()\n",
    "ridge_final.fit(np.concatenate((X_train,X_val)),np.concatenate((y_train,y_val)))\n",
    "y_hat=ridge_final.predict(X_test)\n",
    "ridge_test=__reg_metrics__(y_test,y_hat,'Linear Regression Ridge')"
   ]
  },
  {
   "cell_type": "markdown",
   "metadata": {
    "heading_collapsed": true,
    "hidden": true
   },
   "source": [
    "## 2.5 Linear Regression Elastic Net"
   ]
  },
  {
   "cell_type": "code",
   "execution_count": 64,
   "metadata": {
    "hidden": true
   },
   "outputs": [],
   "source": [
    "# Define Model - Default Hyperparameters\n",
    "elastic=lm.ElasticNet()\n",
    "elastic.fit(X_train,y_train)\n",
    "# Prediction over training dataset\n",
    "y_pred_train=elastic.predict(X_train)\n",
    "elastic_train=__reg_metrics__(y_train,y_pred_train,'Linear Regression Elastic Net')\n",
    "# Prediction over validation dataset\n",
    "y_pred_val=elastic.predict(X_val)\n",
    "elastic_val=__reg_metrics__(y_val,y_pred_val,'Linear Regression Elastic Net')"
   ]
  },
  {
   "cell_type": "code",
   "execution_count": 68,
   "metadata": {
    "hidden": true
   },
   "outputs": [
    {
     "data": {
      "text/html": [
       "<div>\n",
       "<style scoped>\n",
       "    .dataframe tbody tr th:only-of-type {\n",
       "        vertical-align: middle;\n",
       "    }\n",
       "\n",
       "    .dataframe tbody tr th {\n",
       "        vertical-align: top;\n",
       "    }\n",
       "\n",
       "    .dataframe thead th {\n",
       "        text-align: right;\n",
       "    }\n",
       "</style>\n",
       "<table border=\"1\" class=\"dataframe\">\n",
       "  <thead>\n",
       "    <tr style=\"text-align: right;\">\n",
       "      <th></th>\n",
       "      <th>Hyperparameters</th>\n",
       "      <th>MSE</th>\n",
       "    </tr>\n",
       "  </thead>\n",
       "  <tbody>\n",
       "    <tr>\n",
       "      <th>0</th>\n",
       "      <td>{'alpha': 0.001, 'l1_ratio': 0.5, 'max_iter': ...</td>\n",
       "      <td>458.44</td>\n",
       "    </tr>\n",
       "    <tr>\n",
       "      <th>1</th>\n",
       "      <td>{'alpha': 0.001, 'l1_ratio': 0.75, 'max_iter':...</td>\n",
       "      <td>458.44</td>\n",
       "    </tr>\n",
       "    <tr>\n",
       "      <th>2</th>\n",
       "      <td>{'alpha': 1.0, 'l1_ratio': 0.1, 'max_iter': 5000}</td>\n",
       "      <td>472.682</td>\n",
       "    </tr>\n",
       "    <tr>\n",
       "      <th>3</th>\n",
       "      <td>{'alpha': 0.01, 'l1_ratio': 0.9, 'max_iter': 2...</td>\n",
       "      <td>458.463</td>\n",
       "    </tr>\n",
       "    <tr>\n",
       "      <th>4</th>\n",
       "      <td>{'alpha': 0.5, 'l1_ratio': 0.9, 'max_iter': 1000}</td>\n",
       "      <td>472.304</td>\n",
       "    </tr>\n",
       "    <tr>\n",
       "      <th>5</th>\n",
       "      <td>{'alpha': 0.01, 'l1_ratio': 0.75, 'max_iter': ...</td>\n",
       "      <td>458.509</td>\n",
       "    </tr>\n",
       "    <tr>\n",
       "      <th>6</th>\n",
       "      <td>{'alpha': 0.5, 'l1_ratio': 0.5, 'max_iter': 1000}</td>\n",
       "      <td>471.528</td>\n",
       "    </tr>\n",
       "    <tr>\n",
       "      <th>7</th>\n",
       "      <td>{'alpha': 1.0, 'l1_ratio': 0.25, 'max_iter': 5...</td>\n",
       "      <td>473.108</td>\n",
       "    </tr>\n",
       "    <tr>\n",
       "      <th>8</th>\n",
       "      <td>{'alpha': 0.5, 'l1_ratio': 0.5, 'max_iter': 10...</td>\n",
       "      <td>471.528</td>\n",
       "    </tr>\n",
       "    <tr>\n",
       "      <th>9</th>\n",
       "      <td>{'alpha': 0.001, 'l1_ratio': 0.25, 'max_iter':...</td>\n",
       "      <td>458.44</td>\n",
       "    </tr>\n",
       "    <tr>\n",
       "      <th>10</th>\n",
       "      <td>{'alpha': 1.0, 'l1_ratio': 0.9, 'max_iter': 10...</td>\n",
       "      <td>473.774</td>\n",
       "    </tr>\n",
       "    <tr>\n",
       "      <th>11</th>\n",
       "      <td>{'alpha': 0.01, 'l1_ratio': 0.25, 'max_iter': ...</td>\n",
       "      <td>458.799</td>\n",
       "    </tr>\n",
       "    <tr>\n",
       "      <th>12</th>\n",
       "      <td>{'alpha': 0.5, 'l1_ratio': 0.5, 'max_iter': 10...</td>\n",
       "      <td>471.528</td>\n",
       "    </tr>\n",
       "    <tr>\n",
       "      <th>13</th>\n",
       "      <td>{'alpha': 0.1, 'l1_ratio': 0.75, 'max_iter': 5...</td>\n",
       "      <td>462.408</td>\n",
       "    </tr>\n",
       "    <tr>\n",
       "      <th>14</th>\n",
       "      <td>{'alpha': 1.0, 'l1_ratio': 0.1, 'max_iter': 1000}</td>\n",
       "      <td>472.682</td>\n",
       "    </tr>\n",
       "    <tr>\n",
       "      <th>15</th>\n",
       "      <td>{'alpha': 0.1, 'l1_ratio': 0.75, 'max_iter': 1...</td>\n",
       "      <td>462.408</td>\n",
       "    </tr>\n",
       "    <tr>\n",
       "      <th>16</th>\n",
       "      <td>{'alpha': 0.1, 'l1_ratio': 0.75, 'max_iter': 5...</td>\n",
       "      <td>462.408</td>\n",
       "    </tr>\n",
       "    <tr>\n",
       "      <th>17</th>\n",
       "      <td>{'alpha': 0.5, 'l1_ratio': 0.1, 'max_iter': 2000}</td>\n",
       "      <td>470.829</td>\n",
       "    </tr>\n",
       "    <tr>\n",
       "      <th>18</th>\n",
       "      <td>{'alpha': 0.01, 'l1_ratio': 0.5, 'max_iter': 1...</td>\n",
       "      <td>458.632</td>\n",
       "    </tr>\n",
       "    <tr>\n",
       "      <th>19</th>\n",
       "      <td>{'alpha': 0.001, 'l1_ratio': 0.1, 'max_iter': ...</td>\n",
       "      <td>458.441</td>\n",
       "    </tr>\n",
       "  </tbody>\n",
       "</table>\n",
       "</div>"
      ],
      "text/plain": [
       "                                      Hyperparameters      MSE\n",
       "0   {'alpha': 0.001, 'l1_ratio': 0.5, 'max_iter': ...   458.44\n",
       "1   {'alpha': 0.001, 'l1_ratio': 0.75, 'max_iter':...   458.44\n",
       "2   {'alpha': 1.0, 'l1_ratio': 0.1, 'max_iter': 5000}  472.682\n",
       "3   {'alpha': 0.01, 'l1_ratio': 0.9, 'max_iter': 2...  458.463\n",
       "4   {'alpha': 0.5, 'l1_ratio': 0.9, 'max_iter': 1000}  472.304\n",
       "5   {'alpha': 0.01, 'l1_ratio': 0.75, 'max_iter': ...  458.509\n",
       "6   {'alpha': 0.5, 'l1_ratio': 0.5, 'max_iter': 1000}  471.528\n",
       "7   {'alpha': 1.0, 'l1_ratio': 0.25, 'max_iter': 5...  473.108\n",
       "8   {'alpha': 0.5, 'l1_ratio': 0.5, 'max_iter': 10...  471.528\n",
       "9   {'alpha': 0.001, 'l1_ratio': 0.25, 'max_iter':...   458.44\n",
       "10  {'alpha': 1.0, 'l1_ratio': 0.9, 'max_iter': 10...  473.774\n",
       "11  {'alpha': 0.01, 'l1_ratio': 0.25, 'max_iter': ...  458.799\n",
       "12  {'alpha': 0.5, 'l1_ratio': 0.5, 'max_iter': 10...  471.528\n",
       "13  {'alpha': 0.1, 'l1_ratio': 0.75, 'max_iter': 5...  462.408\n",
       "14  {'alpha': 1.0, 'l1_ratio': 0.1, 'max_iter': 1000}  472.682\n",
       "15  {'alpha': 0.1, 'l1_ratio': 0.75, 'max_iter': 1...  462.408\n",
       "16  {'alpha': 0.1, 'l1_ratio': 0.75, 'max_iter': 5...  462.408\n",
       "17  {'alpha': 0.5, 'l1_ratio': 0.1, 'max_iter': 2000}  470.829\n",
       "18  {'alpha': 0.01, 'l1_ratio': 0.5, 'max_iter': 1...  458.632\n",
       "19  {'alpha': 0.001, 'l1_ratio': 0.1, 'max_iter': ...  458.441"
      ]
     },
     "execution_count": 68,
     "metadata": {},
     "output_type": "execute_result"
    }
   ],
   "source": [
    "# Hyperparameters fine tunning - alpha,l1_ratio,max_iter\n",
    "parameters = {'alpha':[1e-3,1e-2,1e-1,0.5,1.0],\n",
    "              'l1_ratio':[0.1,0.25,0.5,0.75,0.9],\n",
    "              'max_iter':[1000,2000,5000,10000]}\n",
    "parameters_list=[]\n",
    "mse_list = []\n",
    "for i in range(20):\n",
    "    hp=__random_search__(parameters)\n",
    "    elastic=lm.ElasticNet(alpha=hp['alpha'],\n",
    "                          l1_ratio=hp['l1_ratio'],\n",
    "                          max_iter=hp['max_iter'])\n",
    "    elastic.fit(X_train,y_train)\n",
    "    y_hat=elastic.predict(X_val)    \n",
    "    mse_list.append(mt.mean_squared_error(y_val,y_hat))\n",
    "    parameters_list.append(hp)\n",
    "fine_tuning_results=pd.DataFrame([parameters_list,mse_list]).T\n",
    "fine_tuning_results.columns=['Hyperparameters','MSE']\n",
    "fine_tuning_results"
   ]
  },
  {
   "cell_type": "code",
   "execution_count": 71,
   "metadata": {
    "hidden": true
   },
   "outputs": [
    {
     "name": "stderr",
     "output_type": "stream",
     "text": [
      "C:\\Users\\User\\anaconda3\\lib\\site-packages\\sklearn\\base.py:444: UserWarning: X has feature names, but ElasticNet was fitted without feature names\n",
      "  f\"X has feature names, but {self.__class__.__name__} was fitted without\"\n"
     ]
    }
   ],
   "source": [
    "# Final model - 'alpha': 0.001, 'l1_ratio': 0.5, 'max_iter': 1000\n",
    "elastic_final=lm.ElasticNet(alpha=0.001,\n",
    "                            l1_ratio=0.5,\n",
    "                            max_iter=1000)\n",
    "elastic_final.fit(np.concatenate((X_train,X_val)),np.concatenate((y_train,y_val)))\n",
    "y_hat=elastic_final.predict(X_test)\n",
    "elastic_test=__reg_metrics__(y_test,y_hat,'Linear Regression Elastic Net')"
   ]
  },
  {
   "cell_type": "markdown",
   "metadata": {
    "hidden": true
   },
   "source": [
    "## 2.6 Results Summary"
   ]
  },
  {
   "cell_type": "code",
   "execution_count": 73,
   "metadata": {
    "hidden": true
   },
   "outputs": [
    {
     "data": {
      "text/html": [
       "<div>\n",
       "<style scoped>\n",
       "    .dataframe tbody tr th:only-of-type {\n",
       "        vertical-align: middle;\n",
       "    }\n",
       "\n",
       "    .dataframe tbody tr th {\n",
       "        vertical-align: top;\n",
       "    }\n",
       "\n",
       "    .dataframe thead th {\n",
       "        text-align: right;\n",
       "    }\n",
       "</style>\n",
       "<table border=\"1\" class=\"dataframe\">\n",
       "  <thead>\n",
       "    <tr style=\"text-align: right;\">\n",
       "      <th></th>\n",
       "      <th>Algorithm</th>\n",
       "      <th>R2_Score</th>\n",
       "      <th>MSE</th>\n",
       "      <th>RMSE</th>\n",
       "      <th>MAE</th>\n",
       "      <th>MAPE</th>\n",
       "    </tr>\n",
       "  </thead>\n",
       "  <tbody>\n",
       "    <tr>\n",
       "      <th>0</th>\n",
       "      <td>Decision Tree Regressor</td>\n",
       "      <td>0.991757</td>\n",
       "      <td>3.9404</td>\n",
       "      <td>1.98504</td>\n",
       "      <td>0.214099</td>\n",
       "      <td>0.0826279</td>\n",
       "    </tr>\n",
       "    <tr>\n",
       "      <th>0</th>\n",
       "      <td>Random Forest Regressor</td>\n",
       "      <td>0.903062</td>\n",
       "      <td>46.3378</td>\n",
       "      <td>6.80719</td>\n",
       "      <td>4.87057</td>\n",
       "      <td>2.60773</td>\n",
       "    </tr>\n",
       "    <tr>\n",
       "      <th>0</th>\n",
       "      <td>Linear Regression Lasso</td>\n",
       "      <td>0.00740091</td>\n",
       "      <td>474.475</td>\n",
       "      <td>21.7824</td>\n",
       "      <td>17.3055</td>\n",
       "      <td>8.7367</td>\n",
       "    </tr>\n",
       "    <tr>\n",
       "      <th>0</th>\n",
       "      <td>Linear Regression Ridge</td>\n",
       "      <td>0.0460577</td>\n",
       "      <td>455.996</td>\n",
       "      <td>21.3541</td>\n",
       "      <td>16.9983</td>\n",
       "      <td>8.65341</td>\n",
       "    </tr>\n",
       "    <tr>\n",
       "      <th>0</th>\n",
       "      <td>Linear Regression Elastic Net</td>\n",
       "      <td>0.00783174</td>\n",
       "      <td>474.269</td>\n",
       "      <td>21.7777</td>\n",
       "      <td>17.2995</td>\n",
       "      <td>8.7323</td>\n",
       "    </tr>\n",
       "  </tbody>\n",
       "</table>\n",
       "</div>"
      ],
      "text/plain": [
       "                       Algorithm    R2_Score      MSE     RMSE       MAE  \\\n",
       "0        Decision Tree Regressor    0.991757   3.9404  1.98504  0.214099   \n",
       "0        Random Forest Regressor    0.903062  46.3378  6.80719   4.87057   \n",
       "0        Linear Regression Lasso  0.00740091  474.475  21.7824   17.3055   \n",
       "0        Linear Regression Ridge   0.0460577  455.996  21.3541   16.9983   \n",
       "0  Linear Regression Elastic Net  0.00783174  474.269  21.7777   17.2995   \n",
       "\n",
       "        MAPE  \n",
       "0  0.0826279  \n",
       "0    2.60773  \n",
       "0     8.7367  \n",
       "0    8.65341  \n",
       "0     8.7323  "
      ]
     },
     "execution_count": 73,
     "metadata": {},
     "output_type": "execute_result"
    }
   ],
   "source": [
    "# Prediction over training dataset\n",
    "train_pred_reg=pd.concat([dt_reg_train,rf_reg_train,lasso_train,ridge_train,elastic_train])\n",
    "train_pred_reg"
   ]
  },
  {
   "cell_type": "code",
   "execution_count": 74,
   "metadata": {
    "hidden": true
   },
   "outputs": [
    {
     "data": {
      "text/html": [
       "<div>\n",
       "<style scoped>\n",
       "    .dataframe tbody tr th:only-of-type {\n",
       "        vertical-align: middle;\n",
       "    }\n",
       "\n",
       "    .dataframe tbody tr th {\n",
       "        vertical-align: top;\n",
       "    }\n",
       "\n",
       "    .dataframe thead th {\n",
       "        text-align: right;\n",
       "    }\n",
       "</style>\n",
       "<table border=\"1\" class=\"dataframe\">\n",
       "  <thead>\n",
       "    <tr style=\"text-align: right;\">\n",
       "      <th></th>\n",
       "      <th>Algorithm</th>\n",
       "      <th>R2_Score</th>\n",
       "      <th>MSE</th>\n",
       "      <th>RMSE</th>\n",
       "      <th>MAE</th>\n",
       "      <th>MAPE</th>\n",
       "    </tr>\n",
       "  </thead>\n",
       "  <tbody>\n",
       "    <tr>\n",
       "      <th>0</th>\n",
       "      <td>Decision Tree Regressor</td>\n",
       "      <td>-0.284108</td>\n",
       "      <td>613.176</td>\n",
       "      <td>24.7624</td>\n",
       "      <td>17.0678</td>\n",
       "      <td>6.8912</td>\n",
       "    </tr>\n",
       "    <tr>\n",
       "      <th>0</th>\n",
       "      <td>Random Forest Regressor</td>\n",
       "      <td>0.336183</td>\n",
       "      <td>316.98</td>\n",
       "      <td>17.8039</td>\n",
       "      <td>13.0133</td>\n",
       "      <td>7.06991</td>\n",
       "    </tr>\n",
       "    <tr>\n",
       "      <th>0</th>\n",
       "      <td>Linear Regression Lasso</td>\n",
       "      <td>0.00788364</td>\n",
       "      <td>473.747</td>\n",
       "      <td>21.7657</td>\n",
       "      <td>17.2649</td>\n",
       "      <td>8.69581</td>\n",
       "    </tr>\n",
       "    <tr>\n",
       "      <th>0</th>\n",
       "      <td>Linear Regression Ridge</td>\n",
       "      <td>0.0399281</td>\n",
       "      <td>458.445</td>\n",
       "      <td>21.4113</td>\n",
       "      <td>17.0395</td>\n",
       "      <td>8.68241</td>\n",
       "    </tr>\n",
       "    <tr>\n",
       "      <th>0</th>\n",
       "      <td>Linear Regression Elastic Net</td>\n",
       "      <td>0.00811707</td>\n",
       "      <td>473.636</td>\n",
       "      <td>21.7632</td>\n",
       "      <td>17.2629</td>\n",
       "      <td>8.69404</td>\n",
       "    </tr>\n",
       "  </tbody>\n",
       "</table>\n",
       "</div>"
      ],
      "text/plain": [
       "                       Algorithm    R2_Score      MSE     RMSE      MAE  \\\n",
       "0        Decision Tree Regressor   -0.284108  613.176  24.7624  17.0678   \n",
       "0        Random Forest Regressor    0.336183   316.98  17.8039  13.0133   \n",
       "0        Linear Regression Lasso  0.00788364  473.747  21.7657  17.2649   \n",
       "0        Linear Regression Ridge   0.0399281  458.445  21.4113  17.0395   \n",
       "0  Linear Regression Elastic Net  0.00811707  473.636  21.7632  17.2629   \n",
       "\n",
       "      MAPE  \n",
       "0   6.8912  \n",
       "0  7.06991  \n",
       "0  8.69581  \n",
       "0  8.68241  \n",
       "0  8.69404  "
      ]
     },
     "execution_count": 74,
     "metadata": {},
     "output_type": "execute_result"
    }
   ],
   "source": [
    "# Prediction over validation dataset\n",
    "val_pred_reg=pd.concat([dt_reg_val,rf_reg_val,lasso_val,ridge_val,elastic_val])\n",
    "val_pred_reg"
   ]
  },
  {
   "cell_type": "code",
   "execution_count": 75,
   "metadata": {
    "hidden": true
   },
   "outputs": [
    {
     "data": {
      "text/html": [
       "<div>\n",
       "<style scoped>\n",
       "    .dataframe tbody tr th:only-of-type {\n",
       "        vertical-align: middle;\n",
       "    }\n",
       "\n",
       "    .dataframe tbody tr th {\n",
       "        vertical-align: top;\n",
       "    }\n",
       "\n",
       "    .dataframe thead th {\n",
       "        text-align: right;\n",
       "    }\n",
       "</style>\n",
       "<table border=\"1\" class=\"dataframe\">\n",
       "  <thead>\n",
       "    <tr style=\"text-align: right;\">\n",
       "      <th></th>\n",
       "      <th>Algorithm</th>\n",
       "      <th>R2_Score</th>\n",
       "      <th>MSE</th>\n",
       "      <th>RMSE</th>\n",
       "      <th>MAE</th>\n",
       "      <th>MAPE</th>\n",
       "    </tr>\n",
       "  </thead>\n",
       "  <tbody>\n",
       "    <tr>\n",
       "      <th>0</th>\n",
       "      <td>Decision Tree Regressor</td>\n",
       "      <td>0.0904755</td>\n",
       "      <td>442.848</td>\n",
       "      <td>21.044</td>\n",
       "      <td>16.8298</td>\n",
       "      <td>7.88323</td>\n",
       "    </tr>\n",
       "    <tr>\n",
       "      <th>0</th>\n",
       "      <td>Random Forest Regressor</td>\n",
       "      <td>0.396554</td>\n",
       "      <td>293.818</td>\n",
       "      <td>17.1411</td>\n",
       "      <td>12.5675</td>\n",
       "      <td>6.3721</td>\n",
       "    </tr>\n",
       "    <tr>\n",
       "      <th>0</th>\n",
       "      <td>Linear Regression Lasso</td>\n",
       "      <td>0.0507987</td>\n",
       "      <td>462.167</td>\n",
       "      <td>21.4981</td>\n",
       "      <td>17.1453</td>\n",
       "      <td>8.54906</td>\n",
       "    </tr>\n",
       "    <tr>\n",
       "      <th>0</th>\n",
       "      <td>Linear Regression Ridge</td>\n",
       "      <td>0.0511669</td>\n",
       "      <td>461.988</td>\n",
       "      <td>21.4939</td>\n",
       "      <td>17.144</td>\n",
       "      <td>8.53205</td>\n",
       "    </tr>\n",
       "    <tr>\n",
       "      <th>0</th>\n",
       "      <td>Linear Regression Elastic Net</td>\n",
       "      <td>0.0511291</td>\n",
       "      <td>462.006</td>\n",
       "      <td>21.4943</td>\n",
       "      <td>17.1427</td>\n",
       "      <td>8.53714</td>\n",
       "    </tr>\n",
       "  </tbody>\n",
       "</table>\n",
       "</div>"
      ],
      "text/plain": [
       "                       Algorithm   R2_Score      MSE     RMSE      MAE  \\\n",
       "0        Decision Tree Regressor  0.0904755  442.848   21.044  16.8298   \n",
       "0        Random Forest Regressor   0.396554  293.818  17.1411  12.5675   \n",
       "0        Linear Regression Lasso  0.0507987  462.167  21.4981  17.1453   \n",
       "0        Linear Regression Ridge  0.0511669  461.988  21.4939   17.144   \n",
       "0  Linear Regression Elastic Net  0.0511291  462.006  21.4943  17.1427   \n",
       "\n",
       "      MAPE  \n",
       "0  7.88323  \n",
       "0   6.3721  \n",
       "0  8.54906  \n",
       "0  8.53205  \n",
       "0  8.53714  "
      ]
     },
     "execution_count": 75,
     "metadata": {},
     "output_type": "execute_result"
    }
   ],
   "source": [
    "# Prediction over test dataset\n",
    "test_pred_reg=pd.concat([dt_reg_test,rf_reg_test,lasso_test,ridge_test,elastic_test])\n",
    "test_pred_reg"
   ]
  },
  {
   "cell_type": "markdown",
   "metadata": {},
   "source": [
    "# 3.0 Clustering Algorithms"
   ]
  },
  {
   "cell_type": "code",
   "execution_count": 78,
   "metadata": {},
   "outputs": [],
   "source": [
    "os.chdir('../clustering')\n",
    "X_train=pd.read_csv('X_dataset.csv')"
   ]
  },
  {
   "cell_type": "markdown",
   "metadata": {},
   "source": [
    "## 3.1 K-Means"
   ]
  },
  {
   "cell_type": "code",
   "execution_count": 120,
   "metadata": {},
   "outputs": [],
   "source": [
    "# Normlizing the scale of data\n",
    "scaler=pp.StandardScaler()\n",
    "X_scaled=scaler.fit_transform(X_train) "
   ]
  },
  {
   "cell_type": "code",
   "execution_count": 124,
   "metadata": {},
   "outputs": [
    {
     "data": {
      "image/png": "[encoded data removed]",
      "text/plain": [
       "<Figure size 576x396 with 2 Axes>"
      ]
     },
     "metadata": {},
     "output_type": "display_data"
    },
    {
     "data": {
      "text/plain": [
       "<matplotlib.axes._subplots.AxesSubplot at 0x20b2b122888>"
      ]
     },
     "execution_count": 124,
     "metadata": {},
     "output_type": "execute_result"
    }
   ],
   "source": [
    "# Elbow Method - Optimal number of clusters\n",
    "kmeans=ct.KMeans()\n",
    "visualizer=KElbowVisualizer(kmeans,k=(3,12),metric='silhouette')\n",
    "visualizer.fit(X_scaled)\n",
    "visualizer.show()"
   ]
  },
  {
   "cell_type": "code",
   "execution_count": 125,
   "metadata": {},
   "outputs": [
    {
     "data": {
      "text/plain": [
       "Text(0, 0.5, 'silhouette score')"
      ]
     },
     "execution_count": 125,
     "metadata": {},
     "output_type": "execute_result"
    },
    {
     "data": {
      "image/png": "[encoded data removed]",
      "text/plain": [
       "<Figure size 720x360 with 1 Axes>"
      ]
     },
     "metadata": {},
     "output_type": "display_data"
    }
   ],
   "source": [
    "n_clusters_list=[]\n",
    "ss_list=[]\n",
    "for i in range(2,10,1):\n",
    "    kmeans=ct.KMeans(n_clusters=i)\n",
    "    labels=kmeans.fit_predict(X_scaled)\n",
    "    ss_list.append(mt.silhouette_score(X_scaled,labels))\n",
    "    n_clusters_list.append(i)\n",
    "plt.figure(figsize=(10,5))\n",
    "plt.plot(n_clusters_list,ss_list)\n",
    "plt.xlabel('n_clusters')\n",
    "plt.ylabel('silhouette score')"
   ]
  },
  {
   "cell_type": "code",
   "execution_count": 126,
   "metadata": {},
   "outputs": [],
   "source": [
    "# Final model - n_clusters=3\n",
    "n_clusters=3\n",
    "kmeans=ct.KMeans(n_clusters=n_clusters)\n",
    "labels=kmeans.fit_predict(X_scaled)\n",
    "kmeans_ss=mt.silhouette_score(X_scaled,labels)\n",
    "kmeans_results=pd.DataFrame(['K-Means',n_clusters,kmeans_ss]).T\n",
    "kmeans_results.columns=('Algorithm','Number of Clusters','Average Silhouette Score')"
   ]
  },
  {
   "cell_type": "markdown",
   "metadata": {},
   "source": [
    "## 3.2 Affinity Propagation"
   ]
  },
  {
   "cell_type": "code",
   "execution_count": 129,
   "metadata": {},
   "outputs": [
    {
     "data": {
      "text/plain": [
       "Text(0, 0.5, 'silhouette score')"
      ]
     },
     "execution_count": 129,
     "metadata": {},
     "output_type": "execute_result"
    },
    {
     "data": {
      "image/png": "[encoded data removed]",
      "text/plain": [
       "<Figure size 720x360 with 1 Axes>"
      ]
     },
     "metadata": {},
     "output_type": "display_data"
    }
   ],
   "source": [
    "ss_list=[]\n",
    "preference_list=[]\n",
    "for i in range(-2,-80,-2):\n",
    "    ap=ct.AffinityPropagation(preference=i)\n",
    "    ap.fit(X_train)\n",
    "    labels=ap.predict(X_train)\n",
    "    ss_list.append(mt.silhouette_score(X_train,labels))\n",
    "    preference_list.append(i)\n",
    "plt.figure(figsize=(10,5))\n",
    "plt.plot(preference_list,ss_list)\n",
    "plt.xlabel('preference')\n",
    "plt.ylabel('silhouette score')"
   ]
  },
  {
   "cell_type": "code",
   "execution_count": 104,
   "metadata": {},
   "outputs": [],
   "source": [
    "# Final model - preference=-50\n",
    "ap=ct.AffinityPropagation(preference=-50)\n",
    "labels=ap.fit_predict(X_train)\n",
    "ap_ss=mt.silhouette_score(X_train,labels)\n",
    "n_clusters=len(ap.cluster_centers_indices_)\n",
    "ap_results=pd.DataFrame(['Affinity Propagation',n_clusters,ap_ss]).T\n",
    "ap_results.columns=('Algorithm','Number of Clusters','Average Silhouette Score')"
   ]
  },
  {
   "cell_type": "markdown",
   "metadata": {},
   "source": [
    "## Results Summary"
   ]
  },
  {
   "cell_type": "code",
   "execution_count": 130,
   "metadata": {},
   "outputs": [
    {
     "data": {
      "text/html": [
       "<div>\n",
       "<style scoped>\n",
       "    .dataframe tbody tr th:only-of-type {\n",
       "        vertical-align: middle;\n",
       "    }\n",
       "\n",
       "    .dataframe tbody tr th {\n",
       "        vertical-align: top;\n",
       "    }\n",
       "\n",
       "    .dataframe thead th {\n",
       "        text-align: right;\n",
       "    }\n",
       "</style>\n",
       "<table border=\"1\" class=\"dataframe\">\n",
       "  <thead>\n",
       "    <tr style=\"text-align: right;\">\n",
       "      <th></th>\n",
       "      <th>Algorithm</th>\n",
       "      <th>Number of Clusters</th>\n",
       "      <th>Average Silhouette Score</th>\n",
       "    </tr>\n",
       "  </thead>\n",
       "  <tbody>\n",
       "    <tr>\n",
       "      <th>0</th>\n",
       "      <td>K-Means</td>\n",
       "      <td>3</td>\n",
       "      <td>0.284859</td>\n",
       "    </tr>\n",
       "    <tr>\n",
       "      <th>0</th>\n",
       "      <td>Affinity Propagation</td>\n",
       "      <td>7</td>\n",
       "      <td>0.202286</td>\n",
       "    </tr>\n",
       "  </tbody>\n",
       "</table>\n",
       "</div>"
      ],
      "text/plain": [
       "              Algorithm Number of Clusters Average Silhouette Score\n",
       "0               K-Means                  3                 0.284859\n",
       "0  Affinity Propagation                  7                 0.202286"
      ]
     },
     "execution_count": 130,
     "metadata": {},
     "output_type": "execute_result"
    }
   ],
   "source": [
    "cluster=pd.concat([kmeans_results,ap_results])\n",
    "cluster"
   ]
  },
  {
   "cell_type": "code",
   "execution_count": null,
   "metadata": {},
   "outputs": [],
   "source": []
  }
 ],
 "metadata": {
  "kernelspec": {
   "display_name": "Python 3",
   "language": "python",
   "name": "python3"
  },
  "language_info": {
   "codemirror_mode": {
    "name": "ipython",
    "version": 3
   },
   "file_extension": ".py",
   "mimetype": "text/x-python",
   "name": "python",
   "nbconvert_exporter": "python",
   "pygments_lexer": "ipython3",
   "version": "3.7.6"
  }
 },
 "nbformat": 4,
 "nbformat_minor": 4
}
